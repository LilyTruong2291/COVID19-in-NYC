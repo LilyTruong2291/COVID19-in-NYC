{
  "cells": [
    {
      "metadata": {
        "trusted": true
      },
      "cell_type": "code",
      "source": "import numpy as np\nimport pandas as pd\nfrom pandas import DataFrame, Series\n\n%matplotlib inline",
      "execution_count": 1,
      "outputs": []
    },
    {
      "metadata": {},
      "cell_type": "markdown",
      "source": "## 1. Data Exploration"
    },
    {
      "metadata": {
        "trusted": true
      },
      "cell_type": "code",
      "source": "test = pd.read_csv ('data-by-modzcta.csv', delimiter =',') # COVID-19 cases per Zip Code, NYC Heatlh Data (2020, updated Jun 23,2020) \nincome = pd.read_csv ('Income 2018.csv') # Median Income per Zip Code in NYC, U.S. Census Bureau (2014-2018)\npopulation = pd.read_excel (\"Population.xlsx\") # Population Counts per Zip Code, U.S. Census Bureau (2014-2018)\ntract_zip = pd.read_excel ('TRACT_ZIP.xlsx') # Allocate Tract Census to Zip Code, HUD’s Office of Policy Development and Research ZIP Code Crosswalk \nsvi= pd.read_csv ('Vul.csv') # Social Vulnerability Index per Tract Census Level, Agency for Toxic Substances and Disease Registry (2018)\nhealth = pd.read_excel (\"Chronic_Health.xlsx\") # Underlying health conditions, Centers of Disease Control and Prevention (2015)",
      "execution_count": 2,
      "outputs": []
    },
    {
      "metadata": {},
      "cell_type": "markdown",
      "source": "### 1.1 Test"
    },
    {
      "metadata": {
        "trusted": true
      },
      "cell_type": "code",
      "source": "test.head()",
      "execution_count": 3,
      "outputs": [
        {
          "output_type": "execute_result",
          "execution_count": 3,
          "data": {
            "text/html": "<div>\n<style scoped>\n    .dataframe tbody tr th:only-of-type {\n        vertical-align: middle;\n    }\n\n    .dataframe tbody tr th {\n        vertical-align: top;\n    }\n\n    .dataframe thead th {\n        text-align: right;\n    }\n</style>\n<table border=\"1\" class=\"dataframe\">\n  <thead>\n    <tr style=\"text-align: right;\">\n      <th></th>\n      <th>MODIFIED_ZCTA</th>\n      <th>NEIGHBORHOOD_NAME</th>\n      <th>BOROUGH_GROUP</th>\n      <th>COVID_CASE_COUNT</th>\n      <th>COVID_CASE_RATE</th>\n      <th>POP_DENOMINATOR</th>\n      <th>COVID_DEATH_COUNT</th>\n      <th>COVID_DEATH_RATE</th>\n      <th>PERCENT_POSITIVE</th>\n      <th>TOTAL_COVID_TESTS</th>\n    </tr>\n  </thead>\n  <tbody>\n    <tr>\n      <th>0</th>\n      <td>10001</td>\n      <td>Chelsea/NoMad/West Chelsea</td>\n      <td>Manhattan</td>\n      <td>381</td>\n      <td>1616.94</td>\n      <td>23563.03</td>\n      <td>22</td>\n      <td>93.37</td>\n      <td>11.30</td>\n      <td>3372</td>\n    </tr>\n    <tr>\n      <th>1</th>\n      <td>10002</td>\n      <td>Chinatown/Lower East Side</td>\n      <td>Manhattan</td>\n      <td>1081</td>\n      <td>1408.37</td>\n      <td>76755.41</td>\n      <td>152</td>\n      <td>198.03</td>\n      <td>15.89</td>\n      <td>6803</td>\n    </tr>\n    <tr>\n      <th>2</th>\n      <td>10003</td>\n      <td>East Village/Gramercy/Greenwich Village</td>\n      <td>Manhattan</td>\n      <td>463</td>\n      <td>860.57</td>\n      <td>53801.62</td>\n      <td>34</td>\n      <td>63.20</td>\n      <td>8.71</td>\n      <td>5316</td>\n    </tr>\n    <tr>\n      <th>3</th>\n      <td>10004</td>\n      <td>Financial District</td>\n      <td>Manhattan</td>\n      <td>32</td>\n      <td>876.57</td>\n      <td>3650.61</td>\n      <td>1</td>\n      <td>27.39</td>\n      <td>9.22</td>\n      <td>347</td>\n    </tr>\n    <tr>\n      <th>4</th>\n      <td>10005</td>\n      <td>Financial District</td>\n      <td>Manhattan</td>\n      <td>64</td>\n      <td>762.26</td>\n      <td>8396.11</td>\n      <td>2</td>\n      <td>23.82</td>\n      <td>8.27</td>\n      <td>774</td>\n    </tr>\n  </tbody>\n</table>\n</div>",
            "text/plain": "   MODIFIED_ZCTA                        NEIGHBORHOOD_NAME BOROUGH_GROUP  \\\n0          10001               Chelsea/NoMad/West Chelsea     Manhattan   \n1          10002                Chinatown/Lower East Side     Manhattan   \n2          10003  East Village/Gramercy/Greenwich Village     Manhattan   \n3          10004                       Financial District     Manhattan   \n4          10005                       Financial District     Manhattan   \n\n   COVID_CASE_COUNT  COVID_CASE_RATE  POP_DENOMINATOR  COVID_DEATH_COUNT  \\\n0               381          1616.94         23563.03                 22   \n1              1081          1408.37         76755.41                152   \n2               463           860.57         53801.62                 34   \n3                32           876.57          3650.61                  1   \n4                64           762.26          8396.11                  2   \n\n   COVID_DEATH_RATE  PERCENT_POSITIVE  TOTAL_COVID_TESTS  \n0             93.37             11.30               3372  \n1            198.03             15.89               6803  \n2             63.20              8.71               5316  \n3             27.39              9.22                347  \n4             23.82              8.27                774  "
          },
          "metadata": {}
        }
      ]
    },
    {
      "metadata": {},
      "cell_type": "markdown",
      "source": "print('Data shape: ', test.shape)"
    },
    {
      "metadata": {
        "trusted": true
      },
      "cell_type": "code",
      "source": "test.info()\ntest.describe()",
      "execution_count": 4,
      "outputs": [
        {
          "output_type": "stream",
          "text": "<class 'pandas.core.frame.DataFrame'>\nRangeIndex: 177 entries, 0 to 176\nData columns (total 10 columns):\nMODIFIED_ZCTA        177 non-null int64\nNEIGHBORHOOD_NAME    177 non-null object\nBOROUGH_GROUP        177 non-null object\nCOVID_CASE_COUNT     177 non-null int64\nCOVID_CASE_RATE      177 non-null float64\nPOP_DENOMINATOR      177 non-null float64\nCOVID_DEATH_COUNT    177 non-null int64\nCOVID_DEATH_RATE     177 non-null float64\nPERCENT_POSITIVE     177 non-null float64\nTOTAL_COVID_TESTS    177 non-null int64\ndtypes: float64(4), int64(4), object(2)\nmemory usage: 13.9+ KB\n",
          "name": "stdout"
        },
        {
          "output_type": "execute_result",
          "execution_count": 4,
          "data": {
            "text/html": "<div>\n<style scoped>\n    .dataframe tbody tr th:only-of-type {\n        vertical-align: middle;\n    }\n\n    .dataframe tbody tr th {\n        vertical-align: top;\n    }\n\n    .dataframe thead th {\n        text-align: right;\n    }\n</style>\n<table border=\"1\" class=\"dataframe\">\n  <thead>\n    <tr style=\"text-align: right;\">\n      <th></th>\n      <th>MODIFIED_ZCTA</th>\n      <th>COVID_CASE_COUNT</th>\n      <th>COVID_CASE_RATE</th>\n      <th>POP_DENOMINATOR</th>\n      <th>COVID_DEATH_COUNT</th>\n      <th>COVID_DEATH_RATE</th>\n      <th>PERCENT_POSITIVE</th>\n      <th>TOTAL_COVID_TESTS</th>\n    </tr>\n  </thead>\n  <tbody>\n    <tr>\n      <th>count</th>\n      <td>177.000000</td>\n      <td>177.000000</td>\n      <td>177.000000</td>\n      <td>177.000000</td>\n      <td>177.000000</td>\n      <td>177.000000</td>\n      <td>177.000000</td>\n      <td>177.000000</td>\n    </tr>\n    <tr>\n      <th>mean</th>\n      <td>10810.378531</td>\n      <td>1145.581921</td>\n      <td>2338.201073</td>\n      <td>47425.734237</td>\n      <td>99.175141</td>\n      <td>193.888079</td>\n      <td>19.102655</td>\n      <td>5709.327684</td>\n    </tr>\n    <tr>\n      <th>std</th>\n      <td>578.173317</td>\n      <td>817.013106</td>\n      <td>890.505867</td>\n      <td>26411.133886</td>\n      <td>79.724582</td>\n      <td>105.136590</td>\n      <td>5.937915</td>\n      <td>3351.279829</td>\n    </tr>\n    <tr>\n      <th>min</th>\n      <td>10001.000000</td>\n      <td>26.000000</td>\n      <td>582.200000</td>\n      <td>3457.770000</td>\n      <td>0.000000</td>\n      <td>0.000000</td>\n      <td>7.150000</td>\n      <td>347.000000</td>\n    </tr>\n    <tr>\n      <th>25%</th>\n      <td>10301.000000</td>\n      <td>535.000000</td>\n      <td>1654.400000</td>\n      <td>26614.420000</td>\n      <td>38.000000</td>\n      <td>121.560000</td>\n      <td>15.140000</td>\n      <td>3157.000000</td>\n    </tr>\n    <tr>\n      <th>50%</th>\n      <td>11109.000000</td>\n      <td>902.000000</td>\n      <td>2411.110000</td>\n      <td>43030.430000</td>\n      <td>78.000000</td>\n      <td>182.630000</td>\n      <td>20.150000</td>\n      <td>5123.000000</td>\n    </tr>\n    <tr>\n      <th>75%</th>\n      <td>11361.000000</td>\n      <td>1637.000000</td>\n      <td>2962.490000</td>\n      <td>67089.290000</td>\n      <td>148.000000</td>\n      <td>242.660000</td>\n      <td>24.080000</td>\n      <td>7845.000000</td>\n    </tr>\n    <tr>\n      <th>max</th>\n      <td>11697.000000</td>\n      <td>4679.000000</td>\n      <td>4489.580000</td>\n      <td>111594.100000</td>\n      <td>407.000000</td>\n      <td>660.580000</td>\n      <td>29.010000</td>\n      <td>16826.000000</td>\n    </tr>\n  </tbody>\n</table>\n</div>",
            "text/plain": "       MODIFIED_ZCTA  COVID_CASE_COUNT  COVID_CASE_RATE  POP_DENOMINATOR  \\\ncount     177.000000        177.000000       177.000000       177.000000   \nmean    10810.378531       1145.581921      2338.201073     47425.734237   \nstd       578.173317        817.013106       890.505867     26411.133886   \nmin     10001.000000         26.000000       582.200000      3457.770000   \n25%     10301.000000        535.000000      1654.400000     26614.420000   \n50%     11109.000000        902.000000      2411.110000     43030.430000   \n75%     11361.000000       1637.000000      2962.490000     67089.290000   \nmax     11697.000000       4679.000000      4489.580000    111594.100000   \n\n       COVID_DEATH_COUNT  COVID_DEATH_RATE  PERCENT_POSITIVE  \\\ncount         177.000000        177.000000        177.000000   \nmean           99.175141        193.888079         19.102655   \nstd            79.724582        105.136590          5.937915   \nmin             0.000000          0.000000          7.150000   \n25%            38.000000        121.560000         15.140000   \n50%            78.000000        182.630000         20.150000   \n75%           148.000000        242.660000         24.080000   \nmax           407.000000        660.580000         29.010000   \n\n       TOTAL_COVID_TESTS  \ncount         177.000000  \nmean         5709.327684  \nstd          3351.279829  \nmin           347.000000  \n25%          3157.000000  \n50%          5123.000000  \n75%          7845.000000  \nmax         16826.000000  "
          },
          "metadata": {}
        }
      ]
    },
    {
      "metadata": {},
      "cell_type": "markdown",
      "source": "### 1.2 Income"
    },
    {
      "metadata": {
        "trusted": true
      },
      "cell_type": "code",
      "source": "income.head()",
      "execution_count": 5,
      "outputs": [
        {
          "output_type": "execute_result",
          "execution_count": 5,
          "data": {
            "text/html": "<div>\n<style scoped>\n    .dataframe tbody tr th:only-of-type {\n        vertical-align: middle;\n    }\n\n    .dataframe tbody tr th {\n        vertical-align: top;\n    }\n\n    .dataframe thead th {\n        text-align: right;\n    }\n</style>\n<table border=\"1\" class=\"dataframe\">\n  <thead>\n    <tr style=\"text-align: right;\">\n      <th></th>\n      <th>geoid</th>\n      <th>Zip_Code</th>\n      <th>Median_Income</th>\n    </tr>\n  </thead>\n  <tbody>\n    <tr>\n      <th>0</th>\n      <td>86000US07421</td>\n      <td>7421</td>\n      <td>92274</td>\n    </tr>\n    <tr>\n      <th>1</th>\n      <td>86000US10001</td>\n      <td>10001</td>\n      <td>88526</td>\n    </tr>\n    <tr>\n      <th>2</th>\n      <td>86000US10002</td>\n      <td>10002</td>\n      <td>35859</td>\n    </tr>\n    <tr>\n      <th>3</th>\n      <td>86000US10003</td>\n      <td>10003</td>\n      <td>112131</td>\n    </tr>\n    <tr>\n      <th>4</th>\n      <td>86000US10004</td>\n      <td>10004</td>\n      <td>157645</td>\n    </tr>\n  </tbody>\n</table>\n</div>",
            "text/plain": "          geoid  Zip_Code  Median_Income\n0  86000US07421      7421          92274\n1  86000US10001     10001          88526\n2  86000US10002     10002          35859\n3  86000US10003     10003         112131\n4  86000US10004     10004         157645"
          },
          "metadata": {}
        }
      ]
    },
    {
      "metadata": {
        "trusted": true
      },
      "cell_type": "code",
      "source": "print('Data shape: ', income.shape)",
      "execution_count": 6,
      "outputs": [
        {
          "output_type": "stream",
          "text": "Data shape:  (1646, 3)\n",
          "name": "stdout"
        }
      ]
    },
    {
      "metadata": {
        "trusted": true
      },
      "cell_type": "code",
      "source": "income.info()\nincome.describe()",
      "execution_count": 7,
      "outputs": [
        {
          "output_type": "stream",
          "text": "<class 'pandas.core.frame.DataFrame'>\nRangeIndex: 1646 entries, 0 to 1645\nData columns (total 3 columns):\ngeoid            1646 non-null object\nZip_Code         1646 non-null int64\nMedian_Income    1646 non-null int64\ndtypes: int64(2), object(1)\nmemory usage: 38.7+ KB\n",
          "name": "stdout"
        },
        {
          "output_type": "execute_result",
          "execution_count": 7,
          "data": {
            "text/html": "<div>\n<style scoped>\n    .dataframe tbody tr th:only-of-type {\n        vertical-align: middle;\n    }\n\n    .dataframe tbody tr th {\n        vertical-align: top;\n    }\n\n    .dataframe thead th {\n        text-align: right;\n    }\n</style>\n<table border=\"1\" class=\"dataframe\">\n  <thead>\n    <tr style=\"text-align: right;\">\n      <th></th>\n      <th>Zip_Code</th>\n      <th>Median_Income</th>\n    </tr>\n  </thead>\n  <tbody>\n    <tr>\n      <th>count</th>\n      <td>1646.000000</td>\n      <td>1646.000000</td>\n    </tr>\n    <tr>\n      <th>mean</th>\n      <td>12746.985419</td>\n      <td>70733.653098</td>\n    </tr>\n    <tr>\n      <th>std</th>\n      <td>1325.165010</td>\n      <td>31242.076564</td>\n    </tr>\n    <tr>\n      <th>min</th>\n      <td>7421.000000</td>\n      <td>15089.000000</td>\n    </tr>\n    <tr>\n      <th>25%</th>\n      <td>11771.250000</td>\n      <td>51173.750000</td>\n    </tr>\n    <tr>\n      <th>50%</th>\n      <td>12837.500000</td>\n      <td>61690.500000</td>\n    </tr>\n    <tr>\n      <th>75%</th>\n      <td>13783.750000</td>\n      <td>82067.250000</td>\n    </tr>\n    <tr>\n      <th>max</th>\n      <td>14905.000000</td>\n      <td>250001.000000</td>\n    </tr>\n  </tbody>\n</table>\n</div>",
            "text/plain": "           Zip_Code  Median_Income\ncount   1646.000000    1646.000000\nmean   12746.985419   70733.653098\nstd     1325.165010   31242.076564\nmin     7421.000000   15089.000000\n25%    11771.250000   51173.750000\n50%    12837.500000   61690.500000\n75%    13783.750000   82067.250000\nmax    14905.000000  250001.000000"
          },
          "metadata": {}
        }
      ]
    },
    {
      "metadata": {},
      "cell_type": "markdown",
      "source": "### 1.3 Population"
    },
    {
      "metadata": {
        "trusted": true
      },
      "cell_type": "code",
      "source": "population.head()",
      "execution_count": 8,
      "outputs": [
        {
          "output_type": "execute_result",
          "execution_count": 8,
          "data": {
            "text/html": "<div>\n<style scoped>\n    .dataframe tbody tr th:only-of-type {\n        vertical-align: middle;\n    }\n\n    .dataframe tbody tr th {\n        vertical-align: top;\n    }\n\n    .dataframe thead th {\n        text-align: right;\n    }\n</style>\n<table border=\"1\" class=\"dataframe\">\n  <thead>\n    <tr style=\"text-align: right;\">\n      <th></th>\n      <th>Zip_Code</th>\n      <th>Population</th>\n    </tr>\n  </thead>\n  <tbody>\n    <tr>\n      <th>0</th>\n      <td>11368</td>\n      <td>112425</td>\n    </tr>\n    <tr>\n      <th>1</th>\n      <td>11385</td>\n      <td>106717</td>\n    </tr>\n    <tr>\n      <th>2</th>\n      <td>10467</td>\n      <td>103732</td>\n    </tr>\n    <tr>\n      <th>3</th>\n      <td>11211</td>\n      <td>102624</td>\n    </tr>\n    <tr>\n      <th>4</th>\n      <td>11236</td>\n      <td>100331</td>\n    </tr>\n  </tbody>\n</table>\n</div>",
            "text/plain": "  Zip_Code  Population\n0    11368      112425\n1    11385      106717\n2    10467      103732\n3    11211      102624\n4    11236      100331"
          },
          "metadata": {}
        }
      ]
    },
    {
      "metadata": {
        "trusted": true
      },
      "cell_type": "code",
      "source": "population.info()\npopulation.describe()",
      "execution_count": 9,
      "outputs": [
        {
          "output_type": "stream",
          "text": "<class 'pandas.core.frame.DataFrame'>\nInt64Index: 1753 entries, 0 to 1750\nData columns (total 2 columns):\nZip_Code      1753 non-null object\nPopulation    1753 non-null int64\ndtypes: int64(1), object(1)\nmemory usage: 41.1+ KB\n",
          "name": "stdout"
        },
        {
          "output_type": "execute_result",
          "execution_count": 9,
          "data": {
            "text/html": "<div>\n<style scoped>\n    .dataframe tbody tr th:only-of-type {\n        vertical-align: middle;\n    }\n\n    .dataframe tbody tr th {\n        vertical-align: top;\n    }\n\n    .dataframe thead th {\n        text-align: right;\n    }\n</style>\n<table border=\"1\" class=\"dataframe\">\n  <thead>\n    <tr style=\"text-align: right;\">\n      <th></th>\n      <th>Population</th>\n    </tr>\n  </thead>\n  <tbody>\n    <tr>\n      <th>count</th>\n      <td>1753.000000</td>\n    </tr>\n    <tr>\n      <th>mean</th>\n      <td>11175.559612</td>\n    </tr>\n    <tr>\n      <th>std</th>\n      <td>17907.810072</td>\n    </tr>\n    <tr>\n      <th>min</th>\n      <td>5.000000</td>\n    </tr>\n    <tr>\n      <th>25%</th>\n      <td>925.000000</td>\n    </tr>\n    <tr>\n      <th>50%</th>\n      <td>3189.000000</td>\n    </tr>\n    <tr>\n      <th>75%</th>\n      <td>12985.000000</td>\n    </tr>\n    <tr>\n      <th>max</th>\n      <td>112425.000000</td>\n    </tr>\n  </tbody>\n</table>\n</div>",
            "text/plain": "          Population\ncount    1753.000000\nmean    11175.559612\nstd     17907.810072\nmin         5.000000\n25%       925.000000\n50%      3189.000000\n75%     12985.000000\nmax    112425.000000"
          },
          "metadata": {}
        }
      ]
    },
    {
      "metadata": {},
      "cell_type": "markdown",
      "source": "### 1.4 Tract_Zip"
    },
    {
      "metadata": {
        "trusted": true
      },
      "cell_type": "code",
      "source": "tract_zip.head()",
      "execution_count": 10,
      "outputs": [
        {
          "output_type": "execute_result",
          "execution_count": 10,
          "data": {
            "text/html": "<div>\n<style scoped>\n    .dataframe tbody tr th:only-of-type {\n        vertical-align: middle;\n    }\n\n    .dataframe tbody tr th {\n        vertical-align: top;\n    }\n\n    .dataframe thead th {\n        text-align: right;\n    }\n</style>\n<table border=\"1\" class=\"dataframe\">\n  <thead>\n    <tr style=\"text-align: right;\">\n      <th></th>\n      <th>TRACT</th>\n      <th>ZIP</th>\n      <th>RES_RATIO</th>\n      <th>BUS_RATIO</th>\n      <th>OTH_RATIO</th>\n      <th>TOT_RATIO</th>\n    </tr>\n  </thead>\n  <tbody>\n    <tr>\n      <th>0</th>\n      <td>1001020100</td>\n      <td>36067</td>\n      <td>1.000000</td>\n      <td>1.000000</td>\n      <td>1.000000</td>\n      <td>1.000000</td>\n    </tr>\n    <tr>\n      <th>1</th>\n      <td>1001020200</td>\n      <td>36067</td>\n      <td>1.000000</td>\n      <td>1.000000</td>\n      <td>1.000000</td>\n      <td>1.000000</td>\n    </tr>\n    <tr>\n      <th>2</th>\n      <td>1001020300</td>\n      <td>36067</td>\n      <td>1.000000</td>\n      <td>1.000000</td>\n      <td>1.000000</td>\n      <td>1.000000</td>\n    </tr>\n    <tr>\n      <th>3</th>\n      <td>1001020400</td>\n      <td>36066</td>\n      <td>0.979601</td>\n      <td>0.488506</td>\n      <td>0.945205</td>\n      <td>0.943742</td>\n    </tr>\n    <tr>\n      <th>4</th>\n      <td>1001020400</td>\n      <td>36067</td>\n      <td>0.020399</td>\n      <td>0.511494</td>\n      <td>0.054795</td>\n      <td>0.056258</td>\n    </tr>\n  </tbody>\n</table>\n</div>",
            "text/plain": "        TRACT    ZIP  RES_RATIO  BUS_RATIO  OTH_RATIO  TOT_RATIO\n0  1001020100  36067   1.000000   1.000000   1.000000   1.000000\n1  1001020200  36067   1.000000   1.000000   1.000000   1.000000\n2  1001020300  36067   1.000000   1.000000   1.000000   1.000000\n3  1001020400  36066   0.979601   0.488506   0.945205   0.943742\n4  1001020400  36067   0.020399   0.511494   0.054795   0.056258"
          },
          "metadata": {}
        }
      ]
    },
    {
      "metadata": {
        "trusted": true
      },
      "cell_type": "code",
      "source": "tract_zip.info()\ntract_zip.describe()",
      "execution_count": 11,
      "outputs": [
        {
          "output_type": "stream",
          "text": "<class 'pandas.core.frame.DataFrame'>\nRangeIndex: 172121 entries, 0 to 172120\nData columns (total 6 columns):\nTRACT        172121 non-null int64\nZIP          172121 non-null int64\nRES_RATIO    172121 non-null float64\nBUS_RATIO    172121 non-null float64\nOTH_RATIO    172121 non-null float64\nTOT_RATIO    172121 non-null float64\ndtypes: float64(4), int64(2)\nmemory usage: 7.9 MB\n",
          "name": "stdout"
        },
        {
          "output_type": "execute_result",
          "execution_count": 11,
          "data": {
            "text/html": "<div>\n<style scoped>\n    .dataframe tbody tr th:only-of-type {\n        vertical-align: middle;\n    }\n\n    .dataframe tbody tr th {\n        vertical-align: top;\n    }\n\n    .dataframe thead th {\n        text-align: right;\n    }\n</style>\n<table border=\"1\" class=\"dataframe\">\n  <thead>\n    <tr style=\"text-align: right;\">\n      <th></th>\n      <th>TRACT</th>\n      <th>ZIP</th>\n      <th>RES_RATIO</th>\n      <th>BUS_RATIO</th>\n      <th>OTH_RATIO</th>\n      <th>TOT_RATIO</th>\n    </tr>\n  </thead>\n  <tbody>\n    <tr>\n      <th>count</th>\n      <td>1.721210e+05</td>\n      <td>172121.000000</td>\n      <td>172121.000000</td>\n      <td>172121.000000</td>\n      <td>172121.000000</td>\n      <td>172121.000000</td>\n    </tr>\n    <tr>\n      <th>mean</th>\n      <td>2.908298e+10</td>\n      <td>49384.923751</td>\n      <td>0.425561</td>\n      <td>0.425137</td>\n      <td>0.415179</td>\n      <td>0.426833</td>\n    </tr>\n    <tr>\n      <th>std</th>\n      <td>1.606759e+10</td>\n      <td>28248.936890</td>\n      <td>0.409935</td>\n      <td>0.411306</td>\n      <td>0.432812</td>\n      <td>0.406995</td>\n    </tr>\n    <tr>\n      <th>min</th>\n      <td>1.001020e+09</td>\n      <td>501.000000</td>\n      <td>0.000000</td>\n      <td>0.000000</td>\n      <td>0.000000</td>\n      <td>0.000020</td>\n    </tr>\n    <tr>\n      <th>25%</th>\n      <td>1.701900e+10</td>\n      <td>27260.000000</td>\n      <td>0.023320</td>\n      <td>0.019139</td>\n      <td>0.000000</td>\n      <td>0.028457</td>\n    </tr>\n    <tr>\n      <th>50%</th>\n      <td>2.909502e+10</td>\n      <td>47703.000000</td>\n      <td>0.270348</td>\n      <td>0.271186</td>\n      <td>0.200000</td>\n      <td>0.275035</td>\n    </tr>\n    <tr>\n      <th>75%</th>\n      <td>4.202701e+10</td>\n      <td>74538.000000</td>\n      <td>0.950839</td>\n      <td>0.935714</td>\n      <td>0.981982</td>\n      <td>0.940693</td>\n    </tr>\n    <tr>\n      <th>max</th>\n      <td>7.803096e+10</td>\n      <td>99929.000000</td>\n      <td>1.000000</td>\n      <td>1.000000</td>\n      <td>1.000000</td>\n      <td>1.000000</td>\n    </tr>\n  </tbody>\n</table>\n</div>",
            "text/plain": "              TRACT            ZIP      RES_RATIO      BUS_RATIO  \\\ncount  1.721210e+05  172121.000000  172121.000000  172121.000000   \nmean   2.908298e+10   49384.923751       0.425561       0.425137   \nstd    1.606759e+10   28248.936890       0.409935       0.411306   \nmin    1.001020e+09     501.000000       0.000000       0.000000   \n25%    1.701900e+10   27260.000000       0.023320       0.019139   \n50%    2.909502e+10   47703.000000       0.270348       0.271186   \n75%    4.202701e+10   74538.000000       0.950839       0.935714   \nmax    7.803096e+10   99929.000000       1.000000       1.000000   \n\n           OTH_RATIO      TOT_RATIO  \ncount  172121.000000  172121.000000  \nmean        0.415179       0.426833  \nstd         0.432812       0.406995  \nmin         0.000000       0.000020  \n25%         0.000000       0.028457  \n50%         0.200000       0.275035  \n75%         0.981982       0.940693  \nmax         1.000000       1.000000  "
          },
          "metadata": {}
        }
      ]
    },
    {
      "metadata": {},
      "cell_type": "markdown",
      "source": "### 1.5 SVI"
    },
    {
      "metadata": {
        "trusted": true
      },
      "cell_type": "code",
      "source": "svi.head()",
      "execution_count": 12,
      "outputs": [
        {
          "output_type": "execute_result",
          "execution_count": 12,
          "data": {
            "text/html": "<div>\n<style scoped>\n    .dataframe tbody tr th:only-of-type {\n        vertical-align: middle;\n    }\n\n    .dataframe tbody tr th {\n        vertical-align: top;\n    }\n\n    .dataframe thead th {\n        text-align: right;\n    }\n</style>\n<table border=\"1\" class=\"dataframe\">\n  <thead>\n    <tr style=\"text-align: right;\">\n      <th></th>\n      <th>ST</th>\n      <th>STATE</th>\n      <th>ST_ABBR</th>\n      <th>STCNTY</th>\n      <th>COUNTY</th>\n      <th>FIPS</th>\n      <th>LOCATION</th>\n      <th>AREA_SQMI</th>\n      <th>E_TOTPOP</th>\n      <th>M_TOTPOP</th>\n      <th>...</th>\n      <th>F_CROWD</th>\n      <th>F_NOVEH</th>\n      <th>F_GROUPQ</th>\n      <th>F_THEME4</th>\n      <th>F_TOTAL</th>\n      <th>E_UNINSUR</th>\n      <th>M_UNINSUR</th>\n      <th>EP_UNINSUR</th>\n      <th>MP_UNINSUR</th>\n      <th>E_DAYPOP</th>\n    </tr>\n  </thead>\n  <tbody>\n    <tr>\n      <th>0</th>\n      <td>36</td>\n      <td>NEW YORK</td>\n      <td>NY</td>\n      <td>36001</td>\n      <td>Albany</td>\n      <td>36001000100</td>\n      <td>Census Tract 1, Albany County, New York</td>\n      <td>0.914079</td>\n      <td>2022</td>\n      <td>218</td>\n      <td>...</td>\n      <td>0</td>\n      <td>0</td>\n      <td>0</td>\n      <td>0</td>\n      <td>2</td>\n      <td>128</td>\n      <td>57</td>\n      <td>6.3</td>\n      <td>2.8</td>\n      <td>3031</td>\n    </tr>\n    <tr>\n      <th>1</th>\n      <td>36</td>\n      <td>NEW YORK</td>\n      <td>NY</td>\n      <td>36001</td>\n      <td>Albany</td>\n      <td>36001000200</td>\n      <td>Census Tract 2, Albany County, New York</td>\n      <td>0.797363</td>\n      <td>4700</td>\n      <td>690</td>\n      <td>...</td>\n      <td>0</td>\n      <td>0</td>\n      <td>0</td>\n      <td>0</td>\n      <td>2</td>\n      <td>595</td>\n      <td>362</td>\n      <td>12.7</td>\n      <td>7.4</td>\n      <td>4806</td>\n    </tr>\n    <tr>\n      <th>2</th>\n      <td>36</td>\n      <td>NEW YORK</td>\n      <td>NY</td>\n      <td>36001</td>\n      <td>Albany</td>\n      <td>36001000300</td>\n      <td>Census Tract 3, Albany County, New York</td>\n      <td>2.227566</td>\n      <td>5966</td>\n      <td>741</td>\n      <td>...</td>\n      <td>0</td>\n      <td>0</td>\n      <td>0</td>\n      <td>0</td>\n      <td>0</td>\n      <td>507</td>\n      <td>345</td>\n      <td>8.8</td>\n      <td>6.2</td>\n      <td>14210</td>\n    </tr>\n    <tr>\n      <th>3</th>\n      <td>36</td>\n      <td>NEW YORK</td>\n      <td>NY</td>\n      <td>36001</td>\n      <td>Albany</td>\n      <td>36001000401</td>\n      <td>Census Tract 4.01, Albany County, New York</td>\n      <td>3.500329</td>\n      <td>2479</td>\n      <td>263</td>\n      <td>...</td>\n      <td>0</td>\n      <td>0</td>\n      <td>1</td>\n      <td>1</td>\n      <td>3</td>\n      <td>119</td>\n      <td>91</td>\n      <td>5.9</td>\n      <td>4.5</td>\n      <td>9449</td>\n    </tr>\n    <tr>\n      <th>4</th>\n      <td>36</td>\n      <td>NEW YORK</td>\n      <td>NY</td>\n      <td>36001</td>\n      <td>Albany</td>\n      <td>36001000403</td>\n      <td>Census Tract 4.03, Albany County, New York</td>\n      <td>1.211858</td>\n      <td>4236</td>\n      <td>365</td>\n      <td>...</td>\n      <td>0</td>\n      <td>0</td>\n      <td>0</td>\n      <td>0</td>\n      <td>0</td>\n      <td>133</td>\n      <td>104</td>\n      <td>3.1</td>\n      <td>2.5</td>\n      <td>11514</td>\n    </tr>\n  </tbody>\n</table>\n<p>5 rows × 124 columns</p>\n</div>",
            "text/plain": "   ST     STATE ST_ABBR  STCNTY  COUNTY         FIPS  \\\n0  36  NEW YORK      NY   36001  Albany  36001000100   \n1  36  NEW YORK      NY   36001  Albany  36001000200   \n2  36  NEW YORK      NY   36001  Albany  36001000300   \n3  36  NEW YORK      NY   36001  Albany  36001000401   \n4  36  NEW YORK      NY   36001  Albany  36001000403   \n\n                                     LOCATION  AREA_SQMI  E_TOTPOP  M_TOTPOP  \\\n0     Census Tract 1, Albany County, New York   0.914079      2022       218   \n1     Census Tract 2, Albany County, New York   0.797363      4700       690   \n2     Census Tract 3, Albany County, New York   2.227566      5966       741   \n3  Census Tract 4.01, Albany County, New York   3.500329      2479       263   \n4  Census Tract 4.03, Albany County, New York   1.211858      4236       365   \n\n     ...     F_CROWD  F_NOVEH  F_GROUPQ  F_THEME4  F_TOTAL  E_UNINSUR  \\\n0    ...           0        0         0         0        2        128   \n1    ...           0        0         0         0        2        595   \n2    ...           0        0         0         0        0        507   \n3    ...           0        0         1         1        3        119   \n4    ...           0        0         0         0        0        133   \n\n   M_UNINSUR  EP_UNINSUR  MP_UNINSUR  E_DAYPOP  \n0         57         6.3         2.8      3031  \n1        362        12.7         7.4      4806  \n2        345         8.8         6.2     14210  \n3         91         5.9         4.5      9449  \n4        104         3.1         2.5     11514  \n\n[5 rows x 124 columns]"
          },
          "metadata": {}
        }
      ]
    },
    {
      "metadata": {
        "trusted": true,
        "scrolled": true
      },
      "cell_type": "code",
      "source": "svi.info()\nsvi.describe()",
      "execution_count": 13,
      "outputs": [
        {
          "output_type": "stream",
          "text": "<class 'pandas.core.frame.DataFrame'>\nRangeIndex: 4906 entries, 0 to 4905\nColumns: 124 entries, ST to E_DAYPOP\ndtypes: float64(56), int64(64), object(4)\nmemory usage: 4.6+ MB\n",
          "name": "stdout"
        },
        {
          "output_type": "execute_result",
          "execution_count": 13,
          "data": {
            "text/html": "<div>\n<style scoped>\n    .dataframe tbody tr th:only-of-type {\n        vertical-align: middle;\n    }\n\n    .dataframe tbody tr th {\n        vertical-align: top;\n    }\n\n    .dataframe thead th {\n        text-align: right;\n    }\n</style>\n<table border=\"1\" class=\"dataframe\">\n  <thead>\n    <tr style=\"text-align: right;\">\n      <th></th>\n      <th>ST</th>\n      <th>STCNTY</th>\n      <th>FIPS</th>\n      <th>AREA_SQMI</th>\n      <th>E_TOTPOP</th>\n      <th>M_TOTPOP</th>\n      <th>E_HU</th>\n      <th>M_HU</th>\n      <th>E_HH</th>\n      <th>M_HH</th>\n      <th>...</th>\n      <th>F_CROWD</th>\n      <th>F_NOVEH</th>\n      <th>F_GROUPQ</th>\n      <th>F_THEME4</th>\n      <th>F_TOTAL</th>\n      <th>E_UNINSUR</th>\n      <th>M_UNINSUR</th>\n      <th>EP_UNINSUR</th>\n      <th>MP_UNINSUR</th>\n      <th>E_DAYPOP</th>\n    </tr>\n  </thead>\n  <tbody>\n    <tr>\n      <th>count</th>\n      <td>4906.0</td>\n      <td>4906.000000</td>\n      <td>4.906000e+03</td>\n      <td>4906.000000</td>\n      <td>4906.000000</td>\n      <td>4906.000000</td>\n      <td>4906.000000</td>\n      <td>4906.000000</td>\n      <td>4906.000000</td>\n      <td>4906.000000</td>\n      <td>...</td>\n      <td>4906.000000</td>\n      <td>4906.000000</td>\n      <td>4906.000000</td>\n      <td>4906.000000</td>\n      <td>4906.000000</td>\n      <td>4906.000000</td>\n      <td>4906.000000</td>\n      <td>4906.000000</td>\n      <td>4906.000000</td>\n      <td>4906.000000</td>\n    </tr>\n    <tr>\n      <th>mean</th>\n      <td>36.0</td>\n      <td>36061.508765</td>\n      <td>3.606163e+10</td>\n      <td>9.605263</td>\n      <td>3998.869344</td>\n      <td>351.565634</td>\n      <td>1689.173869</td>\n      <td>72.625764</td>\n      <td>1491.344680</td>\n      <td>99.151855</td>\n      <td>...</td>\n      <td>-11.101101</td>\n      <td>-15.988993</td>\n      <td>-11.102120</td>\n      <td>-15.601508</td>\n      <td>-15.856095</td>\n      <td>255.843457</td>\n      <td>130.331839</td>\n      <td>-6.380330</td>\n      <td>-9.334896</td>\n      <td>3235.423971</td>\n    </tr>\n    <tr>\n      <th>std</th>\n      <td>0.0</td>\n      <td>31.473219</td>\n      <td>3.149186e+07</td>\n      <td>33.011019</td>\n      <td>1953.468080</td>\n      <td>201.703026</td>\n      <td>929.042055</td>\n      <td>44.893470</td>\n      <td>819.963198</td>\n      <td>54.056149</td>\n      <td>...</td>\n      <td>105.202053</td>\n      <td>125.770489</td>\n      <td>105.201941</td>\n      <td>125.821826</td>\n      <td>130.572782</td>\n      <td>253.306426</td>\n      <td>98.318743</td>\n      <td>113.332141</td>\n      <td>112.970727</td>\n      <td>2928.504477</td>\n    </tr>\n    <tr>\n      <th>min</th>\n      <td>36.0</td>\n      <td>36001.000000</td>\n      <td>3.600100e+10</td>\n      <td>0.000000</td>\n      <td>0.000000</td>\n      <td>3.000000</td>\n      <td>0.000000</td>\n      <td>3.000000</td>\n      <td>0.000000</td>\n      <td>3.000000</td>\n      <td>...</td>\n      <td>-999.000000</td>\n      <td>-999.000000</td>\n      <td>-999.000000</td>\n      <td>-999.000000</td>\n      <td>-999.000000</td>\n      <td>0.000000</td>\n      <td>3.000000</td>\n      <td>-999.000000</td>\n      <td>-999.000000</td>\n      <td>-999.000000</td>\n    </tr>\n    <tr>\n      <th>25%</th>\n      <td>36.0</td>\n      <td>36047.000000</td>\n      <td>3.604702e+10</td>\n      <td>0.076284</td>\n      <td>2608.500000</td>\n      <td>225.000000</td>\n      <td>1101.250000</td>\n      <td>42.000000</td>\n      <td>958.000000</td>\n      <td>65.000000</td>\n      <td>...</td>\n      <td>0.000000</td>\n      <td>0.000000</td>\n      <td>0.000000</td>\n      <td>0.000000</td>\n      <td>0.000000</td>\n      <td>98.000000</td>\n      <td>63.250000</td>\n      <td>3.000000</td>\n      <td>1.900000</td>\n      <td>1597.000000</td>\n    </tr>\n    <tr>\n      <th>50%</th>\n      <td>36.0</td>\n      <td>36061.000000</td>\n      <td>3.606101e+10</td>\n      <td>0.428806</td>\n      <td>3766.000000</td>\n      <td>316.000000</td>\n      <td>1570.500000</td>\n      <td>62.000000</td>\n      <td>1392.000000</td>\n      <td>90.000000</td>\n      <td>...</td>\n      <td>0.000000</td>\n      <td>0.000000</td>\n      <td>0.000000</td>\n      <td>0.000000</td>\n      <td>1.000000</td>\n      <td>185.000000</td>\n      <td>104.000000</td>\n      <td>5.300000</td>\n      <td>3.000000</td>\n      <td>2513.500000</td>\n    </tr>\n    <tr>\n      <th>75%</th>\n      <td>36.0</td>\n      <td>36081.000000</td>\n      <td>3.608110e+10</td>\n      <td>2.288182</td>\n      <td>5090.750000</td>\n      <td>448.000000</td>\n      <td>2127.000000</td>\n      <td>92.000000</td>\n      <td>1888.750000</td>\n      <td>121.000000</td>\n      <td>...</td>\n      <td>0.000000</td>\n      <td>0.000000</td>\n      <td>0.000000</td>\n      <td>1.000000</td>\n      <td>2.000000</td>\n      <td>319.000000</td>\n      <td>168.000000</td>\n      <td>8.600000</td>\n      <td>4.300000</td>\n      <td>3977.250000</td>\n    </tr>\n    <tr>\n      <th>max</th>\n      <td>36.0</td>\n      <td>36123.000000</td>\n      <td>3.612315e+10</td>\n      <td>705.914117</td>\n      <td>28272.000000</td>\n      <td>2017.000000</td>\n      <td>13028.000000</td>\n      <td>384.000000</td>\n      <td>12827.000000</td>\n      <td>656.000000</td>\n      <td>...</td>\n      <td>1.000000</td>\n      <td>1.000000</td>\n      <td>1.000000</td>\n      <td>4.000000</td>\n      <td>11.000000</td>\n      <td>3135.000000</td>\n      <td>1195.000000</td>\n      <td>53.200000</td>\n      <td>100.000000</td>\n      <td>56670.000000</td>\n    </tr>\n  </tbody>\n</table>\n<p>8 rows × 120 columns</p>\n</div>",
            "text/plain": "           ST        STCNTY          FIPS    AREA_SQMI      E_TOTPOP  \\\ncount  4906.0   4906.000000  4.906000e+03  4906.000000   4906.000000   \nmean     36.0  36061.508765  3.606163e+10     9.605263   3998.869344   \nstd       0.0     31.473219  3.149186e+07    33.011019   1953.468080   \nmin      36.0  36001.000000  3.600100e+10     0.000000      0.000000   \n25%      36.0  36047.000000  3.604702e+10     0.076284   2608.500000   \n50%      36.0  36061.000000  3.606101e+10     0.428806   3766.000000   \n75%      36.0  36081.000000  3.608110e+10     2.288182   5090.750000   \nmax      36.0  36123.000000  3.612315e+10   705.914117  28272.000000   \n\n          M_TOTPOP          E_HU         M_HU          E_HH         M_HH  \\\ncount  4906.000000   4906.000000  4906.000000   4906.000000  4906.000000   \nmean    351.565634   1689.173869    72.625764   1491.344680    99.151855   \nstd     201.703026    929.042055    44.893470    819.963198    54.056149   \nmin       3.000000      0.000000     3.000000      0.000000     3.000000   \n25%     225.000000   1101.250000    42.000000    958.000000    65.000000   \n50%     316.000000   1570.500000    62.000000   1392.000000    90.000000   \n75%     448.000000   2127.000000    92.000000   1888.750000   121.000000   \nmax    2017.000000  13028.000000   384.000000  12827.000000   656.000000   \n\n           ...           F_CROWD      F_NOVEH     F_GROUPQ     F_THEME4  \\\ncount      ...       4906.000000  4906.000000  4906.000000  4906.000000   \nmean       ...        -11.101101   -15.988993   -11.102120   -15.601508   \nstd        ...        105.202053   125.770489   105.201941   125.821826   \nmin        ...       -999.000000  -999.000000  -999.000000  -999.000000   \n25%        ...          0.000000     0.000000     0.000000     0.000000   \n50%        ...          0.000000     0.000000     0.000000     0.000000   \n75%        ...          0.000000     0.000000     0.000000     1.000000   \nmax        ...          1.000000     1.000000     1.000000     4.000000   \n\n           F_TOTAL    E_UNINSUR    M_UNINSUR   EP_UNINSUR   MP_UNINSUR  \\\ncount  4906.000000  4906.000000  4906.000000  4906.000000  4906.000000   \nmean    -15.856095   255.843457   130.331839    -6.380330    -9.334896   \nstd     130.572782   253.306426    98.318743   113.332141   112.970727   \nmin    -999.000000     0.000000     3.000000  -999.000000  -999.000000   \n25%       0.000000    98.000000    63.250000     3.000000     1.900000   \n50%       1.000000   185.000000   104.000000     5.300000     3.000000   \n75%       2.000000   319.000000   168.000000     8.600000     4.300000   \nmax      11.000000  3135.000000  1195.000000    53.200000   100.000000   \n\n           E_DAYPOP  \ncount   4906.000000  \nmean    3235.423971  \nstd     2928.504477  \nmin     -999.000000  \n25%     1597.000000  \n50%     2513.500000  \n75%     3977.250000  \nmax    56670.000000  \n\n[8 rows x 120 columns]"
          },
          "metadata": {}
        }
      ]
    },
    {
      "metadata": {},
      "cell_type": "markdown",
      "source": "### 1.6 Health"
    },
    {
      "metadata": {
        "trusted": true
      },
      "cell_type": "code",
      "source": "health.head()",
      "execution_count": 14,
      "outputs": [
        {
          "output_type": "execute_result",
          "execution_count": 14,
          "data": {
            "text/html": "<div>\n<style scoped>\n    .dataframe tbody tr th:only-of-type {\n        vertical-align: middle;\n    }\n\n    .dataframe tbody tr th {\n        vertical-align: top;\n    }\n\n    .dataframe thead th {\n        text-align: right;\n    }\n</style>\n<table border=\"1\" class=\"dataframe\">\n  <thead>\n    <tr style=\"text-align: right;\">\n      <th></th>\n      <th>Year</th>\n      <th>StateAbbr</th>\n      <th>StateDesc</th>\n      <th>CityName</th>\n      <th>GeographicLevel</th>\n      <th>DataSource</th>\n      <th>Category</th>\n      <th>UniqueID</th>\n      <th>Measure</th>\n      <th>Data_Value_Unit</th>\n      <th>...</th>\n      <th>High_Confidence_Limit</th>\n      <th>Data_Value_Footnote_Symbol</th>\n      <th>Data_Value_Footnote</th>\n      <th>PopulationCount</th>\n      <th>GeoLocation</th>\n      <th>CategoryID</th>\n      <th>MeasureId</th>\n      <th>CityFIPS</th>\n      <th>TractFIPS</th>\n      <th>Short_Question_Text</th>\n    </tr>\n  </thead>\n  <tbody>\n    <tr>\n      <th>0</th>\n      <td>2017</td>\n      <td>NY</td>\n      <td>New York</td>\n      <td>New York</td>\n      <td>Census Tract</td>\n      <td>BRFSS</td>\n      <td>Health Outcomes</td>\n      <td>3651000-36047084600</td>\n      <td>Stroke among adults aged &gt;=18 Years</td>\n      <td>%</td>\n      <td>...</td>\n      <td>4.8</td>\n      <td>NaN</td>\n      <td>NaN</td>\n      <td>1963</td>\n      <td>(40.6422850405, -73.9274549269)</td>\n      <td>HLTHOUT</td>\n      <td>STROKE</td>\n      <td>3651000</td>\n      <td>3.604708e+10</td>\n      <td>Stroke</td>\n    </tr>\n    <tr>\n      <th>1</th>\n      <td>2017</td>\n      <td>NY</td>\n      <td>New York</td>\n      <td>New York</td>\n      <td>Census Tract</td>\n      <td>BRFSS</td>\n      <td>Health Outcomes</td>\n      <td>3651000-36085013204</td>\n      <td>Arthritis among adults aged &gt;=18 Years</td>\n      <td>%</td>\n      <td>...</td>\n      <td>28.5</td>\n      <td>NaN</td>\n      <td>NaN</td>\n      <td>4843</td>\n      <td>(40.5594209197, -74.1302415981)</td>\n      <td>HLTHOUT</td>\n      <td>ARTHRITIS</td>\n      <td>3651000</td>\n      <td>3.608501e+10</td>\n      <td>Arthritis</td>\n    </tr>\n    <tr>\n      <th>2</th>\n      <td>2017</td>\n      <td>NY</td>\n      <td>New York</td>\n      <td>New York</td>\n      <td>Census Tract</td>\n      <td>BRFSS</td>\n      <td>Health Outcomes</td>\n      <td>3651000-36081064102</td>\n      <td>Arthritis among adults aged &gt;=18 Years</td>\n      <td>%</td>\n      <td>...</td>\n      <td>31.2</td>\n      <td>NaN</td>\n      <td>NaN</td>\n      <td>113</td>\n      <td>(40.7021026632, -73.8534755061)</td>\n      <td>HLTHOUT</td>\n      <td>ARTHRITIS</td>\n      <td>3651000</td>\n      <td>3.608106e+10</td>\n      <td>Arthritis</td>\n    </tr>\n    <tr>\n      <th>3</th>\n      <td>2017</td>\n      <td>NY</td>\n      <td>New York</td>\n      <td>New York</td>\n      <td>Census Tract</td>\n      <td>BRFSS</td>\n      <td>Health Outcomes</td>\n      <td>3651000-36005006300</td>\n      <td>High blood pressure among adults aged &gt;=18 Years</td>\n      <td>%</td>\n      <td>...</td>\n      <td>33.6</td>\n      <td>NaN</td>\n      <td>NaN</td>\n      <td>5280</td>\n      <td>(40.8238904859, -73.9282929536)</td>\n      <td>HLTHOUT</td>\n      <td>BPHIGH</td>\n      <td>3651000</td>\n      <td>3.600501e+10</td>\n      <td>High Blood Pressure</td>\n    </tr>\n    <tr>\n      <th>4</th>\n      <td>2017</td>\n      <td>NY</td>\n      <td>New York</td>\n      <td>New York</td>\n      <td>Census Tract</td>\n      <td>BRFSS</td>\n      <td>Unhealthy Behaviors</td>\n      <td>3651000-36085017009</td>\n      <td>Binge drinking among adults aged &gt;=18 Years</td>\n      <td>%</td>\n      <td>...</td>\n      <td>20.6</td>\n      <td>NaN</td>\n      <td>NaN</td>\n      <td>4299</td>\n      <td>(40.5432028659, -74.1898281432)</td>\n      <td>UNHBEH</td>\n      <td>BINGE</td>\n      <td>3651000</td>\n      <td>3.608502e+10</td>\n      <td>Binge Drinking</td>\n    </tr>\n  </tbody>\n</table>\n<p>5 rows × 24 columns</p>\n</div>",
            "text/plain": "   Year StateAbbr StateDesc  CityName GeographicLevel DataSource  \\\n0  2017        NY  New York  New York    Census Tract      BRFSS   \n1  2017        NY  New York  New York    Census Tract      BRFSS   \n2  2017        NY  New York  New York    Census Tract      BRFSS   \n3  2017        NY  New York  New York    Census Tract      BRFSS   \n4  2017        NY  New York  New York    Census Tract      BRFSS   \n\n              Category             UniqueID  \\\n0      Health Outcomes  3651000-36047084600   \n1      Health Outcomes  3651000-36085013204   \n2      Health Outcomes  3651000-36081064102   \n3      Health Outcomes  3651000-36005006300   \n4  Unhealthy Behaviors  3651000-36085017009   \n\n                                            Measure Data_Value_Unit  \\\n0               Stroke among adults aged >=18 Years               %   \n1            Arthritis among adults aged >=18 Years               %   \n2            Arthritis among adults aged >=18 Years               %   \n3  High blood pressure among adults aged >=18 Years               %   \n4       Binge drinking among adults aged >=18 Years               %   \n\n          ...          High_Confidence_Limit Data_Value_Footnote_Symbol  \\\n0         ...                            4.8                        NaN   \n1         ...                           28.5                        NaN   \n2         ...                           31.2                        NaN   \n3         ...                           33.6                        NaN   \n4         ...                           20.6                        NaN   \n\n   Data_Value_Footnote  PopulationCount                      GeoLocation  \\\n0                  NaN             1963  (40.6422850405, -73.9274549269)   \n1                  NaN             4843  (40.5594209197, -74.1302415981)   \n2                  NaN              113  (40.7021026632, -73.8534755061)   \n3                  NaN             5280  (40.8238904859, -73.9282929536)   \n4                  NaN             4299  (40.5432028659, -74.1898281432)   \n\n  CategoryID  MeasureId  CityFIPS     TractFIPS  Short_Question_Text  \n0    HLTHOUT     STROKE   3651000  3.604708e+10               Stroke  \n1    HLTHOUT  ARTHRITIS   3651000  3.608501e+10            Arthritis  \n2    HLTHOUT  ARTHRITIS   3651000  3.608106e+10            Arthritis  \n3    HLTHOUT     BPHIGH   3651000  3.600501e+10  High Blood Pressure  \n4     UNHBEH      BINGE   3651000  3.608502e+10       Binge Drinking  \n\n[5 rows x 24 columns]"
          },
          "metadata": {}
        }
      ]
    },
    {
      "metadata": {
        "trusted": true
      },
      "cell_type": "code",
      "source": "health.info()\nhealth.describe()",
      "execution_count": 15,
      "outputs": [
        {
          "output_type": "stream",
          "text": "<class 'pandas.core.frame.DataFrame'>\nRangeIndex: 59911 entries, 0 to 59910\nData columns (total 24 columns):\nYear                          59911 non-null int64\nStateAbbr                     59911 non-null object\nStateDesc                     59911 non-null object\nCityName                      59911 non-null object\nGeographicLevel               59911 non-null object\nDataSource                    59911 non-null object\nCategory                      59911 non-null object\nUniqueID                      59911 non-null object\nMeasure                       59911 non-null object\nData_Value_Unit               59911 non-null object\nDataValueTypeID               59911 non-null object\nData_Value_Type               59911 non-null object\nData_Value                    59320 non-null float64\nLow_Confidence_Limit          59320 non-null float64\nHigh_Confidence_Limit         59320 non-null float64\nData_Value_Footnote_Symbol    591 non-null object\nData_Value_Footnote           591 non-null object\nPopulationCount               59911 non-null int64\nGeoLocation                   59911 non-null object\nCategoryID                    59911 non-null object\nMeasureId                     59911 non-null object\nCityFIPS                      59911 non-null int64\nTractFIPS                     59855 non-null float64\nShort_Question_Text           59911 non-null object\ndtypes: float64(4), int64(3), object(17)\nmemory usage: 11.0+ MB\n",
          "name": "stdout"
        },
        {
          "output_type": "execute_result",
          "execution_count": 15,
          "data": {
            "text/html": "<div>\n<style scoped>\n    .dataframe tbody tr th:only-of-type {\n        vertical-align: middle;\n    }\n\n    .dataframe tbody tr th {\n        vertical-align: top;\n    }\n\n    .dataframe thead th {\n        text-align: right;\n    }\n</style>\n<table border=\"1\" class=\"dataframe\">\n  <thead>\n    <tr style=\"text-align: right;\">\n      <th></th>\n      <th>Year</th>\n      <th>Data_Value</th>\n      <th>Low_Confidence_Limit</th>\n      <th>High_Confidence_Limit</th>\n      <th>PopulationCount</th>\n      <th>CityFIPS</th>\n      <th>TractFIPS</th>\n    </tr>\n  </thead>\n  <tbody>\n    <tr>\n      <th>count</th>\n      <td>59911.000000</td>\n      <td>59320.000000</td>\n      <td>59320.000000</td>\n      <td>59320.000000</td>\n      <td>5.991100e+04</td>\n      <td>59911.0</td>\n      <td>5.985500e+04</td>\n    </tr>\n    <tr>\n      <th>mean</th>\n      <td>2016.715044</td>\n      <td>31.448667</td>\n      <td>29.779585</td>\n      <td>33.136017</td>\n      <td>1.146215e+04</td>\n      <td>3651000.0</td>\n      <td>3.605465e+10</td>\n    </tr>\n    <tr>\n      <th>std</th>\n      <td>0.451397</td>\n      <td>26.869856</td>\n      <td>26.495198</td>\n      <td>27.205392</td>\n      <td>2.497175e+05</td>\n      <td>0.0</td>\n      <td>2.593890e+07</td>\n    </tr>\n    <tr>\n      <th>min</th>\n      <td>2016.000000</td>\n      <td>0.600000</td>\n      <td>0.500000</td>\n      <td>0.600000</td>\n      <td>1.000000e+00</td>\n      <td>3651000.0</td>\n      <td>3.600500e+10</td>\n    </tr>\n    <tr>\n      <th>25%</th>\n      <td>2016.000000</td>\n      <td>10.400000</td>\n      <td>9.000000</td>\n      <td>11.700000</td>\n      <td>2.303000e+03</td>\n      <td>3651000.0</td>\n      <td>3.604703e+10</td>\n    </tr>\n    <tr>\n      <th>50%</th>\n      <td>2017.000000</td>\n      <td>21.400000</td>\n      <td>19.100000</td>\n      <td>23.800000</td>\n      <td>3.461000e+03</td>\n      <td>3651000.0</td>\n      <td>3.604712e+10</td>\n    </tr>\n    <tr>\n      <th>75%</th>\n      <td>2017.000000</td>\n      <td>47.000000</td>\n      <td>44.600000</td>\n      <td>49.400000</td>\n      <td>4.864000e+03</td>\n      <td>3651000.0</td>\n      <td>3.608103e+10</td>\n    </tr>\n    <tr>\n      <th>max</th>\n      <td>2017.000000</td>\n      <td>94.700000</td>\n      <td>93.700000</td>\n      <td>95.600000</td>\n      <td>8.175133e+06</td>\n      <td>3651000.0</td>\n      <td>3.608503e+10</td>\n    </tr>\n  </tbody>\n</table>\n</div>",
            "text/plain": "               Year    Data_Value  Low_Confidence_Limit  \\\ncount  59911.000000  59320.000000          59320.000000   \nmean    2016.715044     31.448667             29.779585   \nstd        0.451397     26.869856             26.495198   \nmin     2016.000000      0.600000              0.500000   \n25%     2016.000000     10.400000              9.000000   \n50%     2017.000000     21.400000             19.100000   \n75%     2017.000000     47.000000             44.600000   \nmax     2017.000000     94.700000             93.700000   \n\n       High_Confidence_Limit  PopulationCount   CityFIPS     TractFIPS  \ncount           59320.000000     5.991100e+04    59911.0  5.985500e+04  \nmean               33.136017     1.146215e+04  3651000.0  3.605465e+10  \nstd                27.205392     2.497175e+05        0.0  2.593890e+07  \nmin                 0.600000     1.000000e+00  3651000.0  3.600500e+10  \n25%                11.700000     2.303000e+03  3651000.0  3.604703e+10  \n50%                23.800000     3.461000e+03  3651000.0  3.604712e+10  \n75%                49.400000     4.864000e+03  3651000.0  3.608103e+10  \nmax                95.600000     8.175133e+06  3651000.0  3.608503e+10  "
          },
          "metadata": {}
        }
      ]
    },
    {
      "metadata": {},
      "cell_type": "markdown",
      "source": "## 2. Data Preparation"
    },
    {
      "metadata": {
        "trusted": true
      },
      "cell_type": "code",
      "source": "# Rename MODIFIED_ZCTA column to Zip_Code in Test file\ntest = test.rename(columns={'MODIFIED_ZCTA': 'Zip_Code'})",
      "execution_count": 16,
      "outputs": []
    },
    {
      "metadata": {
        "trusted": true
      },
      "cell_type": "code",
      "source": "# Merge Test and Income files\ndf_merge = pd.merge(test, income, on='Zip_Code')\ndf_merge.head()",
      "execution_count": 17,
      "outputs": [
        {
          "output_type": "execute_result",
          "execution_count": 17,
          "data": {
            "text/html": "<div>\n<style scoped>\n    .dataframe tbody tr th:only-of-type {\n        vertical-align: middle;\n    }\n\n    .dataframe tbody tr th {\n        vertical-align: top;\n    }\n\n    .dataframe thead th {\n        text-align: right;\n    }\n</style>\n<table border=\"1\" class=\"dataframe\">\n  <thead>\n    <tr style=\"text-align: right;\">\n      <th></th>\n      <th>Zip_Code</th>\n      <th>NEIGHBORHOOD_NAME</th>\n      <th>BOROUGH_GROUP</th>\n      <th>COVID_CASE_COUNT</th>\n      <th>COVID_CASE_RATE</th>\n      <th>POP_DENOMINATOR</th>\n      <th>COVID_DEATH_COUNT</th>\n      <th>COVID_DEATH_RATE</th>\n      <th>PERCENT_POSITIVE</th>\n      <th>TOTAL_COVID_TESTS</th>\n      <th>geoid</th>\n      <th>Median_Income</th>\n    </tr>\n  </thead>\n  <tbody>\n    <tr>\n      <th>0</th>\n      <td>10001</td>\n      <td>Chelsea/NoMad/West Chelsea</td>\n      <td>Manhattan</td>\n      <td>381</td>\n      <td>1616.94</td>\n      <td>23563.03</td>\n      <td>22</td>\n      <td>93.37</td>\n      <td>11.30</td>\n      <td>3372</td>\n      <td>86000US10001</td>\n      <td>88526</td>\n    </tr>\n    <tr>\n      <th>1</th>\n      <td>10002</td>\n      <td>Chinatown/Lower East Side</td>\n      <td>Manhattan</td>\n      <td>1081</td>\n      <td>1408.37</td>\n      <td>76755.41</td>\n      <td>152</td>\n      <td>198.03</td>\n      <td>15.89</td>\n      <td>6803</td>\n      <td>86000US10002</td>\n      <td>35859</td>\n    </tr>\n    <tr>\n      <th>2</th>\n      <td>10003</td>\n      <td>East Village/Gramercy/Greenwich Village</td>\n      <td>Manhattan</td>\n      <td>463</td>\n      <td>860.57</td>\n      <td>53801.62</td>\n      <td>34</td>\n      <td>63.20</td>\n      <td>8.71</td>\n      <td>5316</td>\n      <td>86000US10003</td>\n      <td>112131</td>\n    </tr>\n    <tr>\n      <th>3</th>\n      <td>10004</td>\n      <td>Financial District</td>\n      <td>Manhattan</td>\n      <td>32</td>\n      <td>876.57</td>\n      <td>3650.61</td>\n      <td>1</td>\n      <td>27.39</td>\n      <td>9.22</td>\n      <td>347</td>\n      <td>86000US10004</td>\n      <td>157645</td>\n    </tr>\n    <tr>\n      <th>4</th>\n      <td>10005</td>\n      <td>Financial District</td>\n      <td>Manhattan</td>\n      <td>64</td>\n      <td>762.26</td>\n      <td>8396.11</td>\n      <td>2</td>\n      <td>23.82</td>\n      <td>8.27</td>\n      <td>774</td>\n      <td>86000US10005</td>\n      <td>173333</td>\n    </tr>\n  </tbody>\n</table>\n</div>",
            "text/plain": "   Zip_Code                        NEIGHBORHOOD_NAME BOROUGH_GROUP  \\\n0     10001               Chelsea/NoMad/West Chelsea     Manhattan   \n1     10002                Chinatown/Lower East Side     Manhattan   \n2     10003  East Village/Gramercy/Greenwich Village     Manhattan   \n3     10004                       Financial District     Manhattan   \n4     10005                       Financial District     Manhattan   \n\n   COVID_CASE_COUNT  COVID_CASE_RATE  POP_DENOMINATOR  COVID_DEATH_COUNT  \\\n0               381          1616.94         23563.03                 22   \n1              1081          1408.37         76755.41                152   \n2               463           860.57         53801.62                 34   \n3                32           876.57          3650.61                  1   \n4                64           762.26          8396.11                  2   \n\n   COVID_DEATH_RATE  PERCENT_POSITIVE  TOTAL_COVID_TESTS         geoid  \\\n0             93.37             11.30               3372  86000US10001   \n1            198.03             15.89               6803  86000US10002   \n2             63.20              8.71               5316  86000US10003   \n3             27.39              9.22                347  86000US10004   \n4             23.82              8.27                774  86000US10005   \n\n   Median_Income  \n0          88526  \n1          35859  \n2         112131  \n3         157645  \n4         173333  "
          },
          "metadata": {}
        }
      ]
    },
    {
      "metadata": {
        "trusted": true
      },
      "cell_type": "code",
      "source": "#Convert Zip_Code type from object to integer in Population file\nconvert_dict = {'Zip_Code': float, \n               } \n  \npopulation = population.astype(convert_dict) \nprint(population.dtypes) ",
      "execution_count": 18,
      "outputs": [
        {
          "output_type": "stream",
          "text": "Zip_Code      float64\nPopulation      int64\ndtype: object\n",
          "name": "stdout"
        }
      ]
    },
    {
      "metadata": {
        "trusted": true
      },
      "cell_type": "code",
      "source": "# Merge Population file with Merge file \ndf_merge = pd.merge (df_merge, population, on='Zip_Code')",
      "execution_count": 19,
      "outputs": []
    },
    {
      "metadata": {
        "trusted": true
      },
      "cell_type": "code",
      "source": "df_merge.head()",
      "execution_count": 20,
      "outputs": [
        {
          "output_type": "execute_result",
          "execution_count": 20,
          "data": {
            "text/html": "<div>\n<style scoped>\n    .dataframe tbody tr th:only-of-type {\n        vertical-align: middle;\n    }\n\n    .dataframe tbody tr th {\n        vertical-align: top;\n    }\n\n    .dataframe thead th {\n        text-align: right;\n    }\n</style>\n<table border=\"1\" class=\"dataframe\">\n  <thead>\n    <tr style=\"text-align: right;\">\n      <th></th>\n      <th>Zip_Code</th>\n      <th>NEIGHBORHOOD_NAME</th>\n      <th>BOROUGH_GROUP</th>\n      <th>COVID_CASE_COUNT</th>\n      <th>COVID_CASE_RATE</th>\n      <th>POP_DENOMINATOR</th>\n      <th>COVID_DEATH_COUNT</th>\n      <th>COVID_DEATH_RATE</th>\n      <th>PERCENT_POSITIVE</th>\n      <th>TOTAL_COVID_TESTS</th>\n      <th>geoid</th>\n      <th>Median_Income</th>\n      <th>Population</th>\n    </tr>\n  </thead>\n  <tbody>\n    <tr>\n      <th>0</th>\n      <td>10001</td>\n      <td>Chelsea/NoMad/West Chelsea</td>\n      <td>Manhattan</td>\n      <td>381</td>\n      <td>1616.94</td>\n      <td>23563.03</td>\n      <td>22</td>\n      <td>93.37</td>\n      <td>11.30</td>\n      <td>3372</td>\n      <td>86000US10001</td>\n      <td>88526</td>\n      <td>22924</td>\n    </tr>\n    <tr>\n      <th>1</th>\n      <td>10002</td>\n      <td>Chinatown/Lower East Side</td>\n      <td>Manhattan</td>\n      <td>1081</td>\n      <td>1408.37</td>\n      <td>76755.41</td>\n      <td>152</td>\n      <td>198.03</td>\n      <td>15.89</td>\n      <td>6803</td>\n      <td>86000US10002</td>\n      <td>35859</td>\n      <td>74993</td>\n    </tr>\n    <tr>\n      <th>2</th>\n      <td>10003</td>\n      <td>East Village/Gramercy/Greenwich Village</td>\n      <td>Manhattan</td>\n      <td>463</td>\n      <td>860.57</td>\n      <td>53801.62</td>\n      <td>34</td>\n      <td>63.20</td>\n      <td>8.71</td>\n      <td>5316</td>\n      <td>86000US10003</td>\n      <td>112131</td>\n      <td>54682</td>\n    </tr>\n    <tr>\n      <th>3</th>\n      <td>10004</td>\n      <td>Financial District</td>\n      <td>Manhattan</td>\n      <td>32</td>\n      <td>876.57</td>\n      <td>3650.61</td>\n      <td>1</td>\n      <td>27.39</td>\n      <td>9.22</td>\n      <td>347</td>\n      <td>86000US10004</td>\n      <td>157645</td>\n      <td>3028</td>\n    </tr>\n    <tr>\n      <th>4</th>\n      <td>10005</td>\n      <td>Financial District</td>\n      <td>Manhattan</td>\n      <td>64</td>\n      <td>762.26</td>\n      <td>8396.11</td>\n      <td>2</td>\n      <td>23.82</td>\n      <td>8.27</td>\n      <td>774</td>\n      <td>86000US10005</td>\n      <td>173333</td>\n      <td>8831</td>\n    </tr>\n  </tbody>\n</table>\n</div>",
            "text/plain": "   Zip_Code                        NEIGHBORHOOD_NAME BOROUGH_GROUP  \\\n0     10001               Chelsea/NoMad/West Chelsea     Manhattan   \n1     10002                Chinatown/Lower East Side     Manhattan   \n2     10003  East Village/Gramercy/Greenwich Village     Manhattan   \n3     10004                       Financial District     Manhattan   \n4     10005                       Financial District     Manhattan   \n\n   COVID_CASE_COUNT  COVID_CASE_RATE  POP_DENOMINATOR  COVID_DEATH_COUNT  \\\n0               381          1616.94         23563.03                 22   \n1              1081          1408.37         76755.41                152   \n2               463           860.57         53801.62                 34   \n3                32           876.57          3650.61                  1   \n4                64           762.26          8396.11                  2   \n\n   COVID_DEATH_RATE  PERCENT_POSITIVE  TOTAL_COVID_TESTS         geoid  \\\n0             93.37             11.30               3372  86000US10001   \n1            198.03             15.89               6803  86000US10002   \n2             63.20              8.71               5316  86000US10003   \n3             27.39              9.22                347  86000US10004   \n4             23.82              8.27                774  86000US10005   \n\n   Median_Income  Population  \n0          88526       22924  \n1          35859       74993  \n2         112131       54682  \n3         157645        3028  \n4         173333        8831  "
          },
          "metadata": {}
        }
      ]
    },
    {
      "metadata": {
        "trusted": true
      },
      "cell_type": "code",
      "source": "# Rename ZIP Column to Zip_Code in Tract_Zip file\ntract_zip = tract_zip.rename(columns={'ZIP': 'Zip_Code'})",
      "execution_count": 21,
      "outputs": []
    },
    {
      "metadata": {
        "trusted": true
      },
      "cell_type": "code",
      "source": "# Merge Tract_Zip file with Merge file\ndf = pd.merge(df_merge, tract_zip[['TRACT','Zip_Code']], on= 'Zip_Code', how= 'left')\ndf.head(10)",
      "execution_count": 22,
      "outputs": [
        {
          "output_type": "execute_result",
          "execution_count": 22,
          "data": {
            "text/html": "<div>\n<style scoped>\n    .dataframe tbody tr th:only-of-type {\n        vertical-align: middle;\n    }\n\n    .dataframe tbody tr th {\n        vertical-align: top;\n    }\n\n    .dataframe thead th {\n        text-align: right;\n    }\n</style>\n<table border=\"1\" class=\"dataframe\">\n  <thead>\n    <tr style=\"text-align: right;\">\n      <th></th>\n      <th>Zip_Code</th>\n      <th>NEIGHBORHOOD_NAME</th>\n      <th>BOROUGH_GROUP</th>\n      <th>COVID_CASE_COUNT</th>\n      <th>COVID_CASE_RATE</th>\n      <th>POP_DENOMINATOR</th>\n      <th>COVID_DEATH_COUNT</th>\n      <th>COVID_DEATH_RATE</th>\n      <th>PERCENT_POSITIVE</th>\n      <th>TOTAL_COVID_TESTS</th>\n      <th>geoid</th>\n      <th>Median_Income</th>\n      <th>Population</th>\n      <th>TRACT</th>\n    </tr>\n  </thead>\n  <tbody>\n    <tr>\n      <th>0</th>\n      <td>10001</td>\n      <td>Chelsea/NoMad/West Chelsea</td>\n      <td>Manhattan</td>\n      <td>381</td>\n      <td>1616.94</td>\n      <td>23563.03</td>\n      <td>22</td>\n      <td>93.37</td>\n      <td>11.3</td>\n      <td>3372</td>\n      <td>86000US10001</td>\n      <td>88526</td>\n      <td>22924</td>\n      <td>36061005600</td>\n    </tr>\n    <tr>\n      <th>1</th>\n      <td>10001</td>\n      <td>Chelsea/NoMad/West Chelsea</td>\n      <td>Manhattan</td>\n      <td>381</td>\n      <td>1616.94</td>\n      <td>23563.03</td>\n      <td>22</td>\n      <td>93.37</td>\n      <td>11.3</td>\n      <td>3372</td>\n      <td>86000US10001</td>\n      <td>88526</td>\n      <td>22924</td>\n      <td>36061005800</td>\n    </tr>\n    <tr>\n      <th>2</th>\n      <td>10001</td>\n      <td>Chelsea/NoMad/West Chelsea</td>\n      <td>Manhattan</td>\n      <td>381</td>\n      <td>1616.94</td>\n      <td>23563.03</td>\n      <td>22</td>\n      <td>93.37</td>\n      <td>11.3</td>\n      <td>3372</td>\n      <td>86000US10001</td>\n      <td>88526</td>\n      <td>22924</td>\n      <td>36061007100</td>\n    </tr>\n    <tr>\n      <th>3</th>\n      <td>10001</td>\n      <td>Chelsea/NoMad/West Chelsea</td>\n      <td>Manhattan</td>\n      <td>381</td>\n      <td>1616.94</td>\n      <td>23563.03</td>\n      <td>22</td>\n      <td>93.37</td>\n      <td>11.3</td>\n      <td>3372</td>\n      <td>86000US10001</td>\n      <td>88526</td>\n      <td>22924</td>\n      <td>36061007600</td>\n    </tr>\n    <tr>\n      <th>4</th>\n      <td>10001</td>\n      <td>Chelsea/NoMad/West Chelsea</td>\n      <td>Manhattan</td>\n      <td>381</td>\n      <td>1616.94</td>\n      <td>23563.03</td>\n      <td>22</td>\n      <td>93.37</td>\n      <td>11.3</td>\n      <td>3372</td>\n      <td>86000US10001</td>\n      <td>88526</td>\n      <td>22924</td>\n      <td>36061008400</td>\n    </tr>\n    <tr>\n      <th>5</th>\n      <td>10001</td>\n      <td>Chelsea/NoMad/West Chelsea</td>\n      <td>Manhattan</td>\n      <td>381</td>\n      <td>1616.94</td>\n      <td>23563.03</td>\n      <td>22</td>\n      <td>93.37</td>\n      <td>11.3</td>\n      <td>3372</td>\n      <td>86000US10001</td>\n      <td>88526</td>\n      <td>22924</td>\n      <td>36061009100</td>\n    </tr>\n    <tr>\n      <th>6</th>\n      <td>10001</td>\n      <td>Chelsea/NoMad/West Chelsea</td>\n      <td>Manhattan</td>\n      <td>381</td>\n      <td>1616.94</td>\n      <td>23563.03</td>\n      <td>22</td>\n      <td>93.37</td>\n      <td>11.3</td>\n      <td>3372</td>\n      <td>86000US10001</td>\n      <td>88526</td>\n      <td>22924</td>\n      <td>36061009300</td>\n    </tr>\n    <tr>\n      <th>7</th>\n      <td>10001</td>\n      <td>Chelsea/NoMad/West Chelsea</td>\n      <td>Manhattan</td>\n      <td>381</td>\n      <td>1616.94</td>\n      <td>23563.03</td>\n      <td>22</td>\n      <td>93.37</td>\n      <td>11.3</td>\n      <td>3372</td>\n      <td>86000US10001</td>\n      <td>88526</td>\n      <td>22924</td>\n      <td>36061009500</td>\n    </tr>\n    <tr>\n      <th>8</th>\n      <td>10001</td>\n      <td>Chelsea/NoMad/West Chelsea</td>\n      <td>Manhattan</td>\n      <td>381</td>\n      <td>1616.94</td>\n      <td>23563.03</td>\n      <td>22</td>\n      <td>93.37</td>\n      <td>11.3</td>\n      <td>3372</td>\n      <td>86000US10001</td>\n      <td>88526</td>\n      <td>22924</td>\n      <td>36061009700</td>\n    </tr>\n    <tr>\n      <th>9</th>\n      <td>10001</td>\n      <td>Chelsea/NoMad/West Chelsea</td>\n      <td>Manhattan</td>\n      <td>381</td>\n      <td>1616.94</td>\n      <td>23563.03</td>\n      <td>22</td>\n      <td>93.37</td>\n      <td>11.3</td>\n      <td>3372</td>\n      <td>86000US10001</td>\n      <td>88526</td>\n      <td>22924</td>\n      <td>36061009900</td>\n    </tr>\n  </tbody>\n</table>\n</div>",
            "text/plain": "   Zip_Code           NEIGHBORHOOD_NAME BOROUGH_GROUP  COVID_CASE_COUNT  \\\n0     10001  Chelsea/NoMad/West Chelsea     Manhattan               381   \n1     10001  Chelsea/NoMad/West Chelsea     Manhattan               381   \n2     10001  Chelsea/NoMad/West Chelsea     Manhattan               381   \n3     10001  Chelsea/NoMad/West Chelsea     Manhattan               381   \n4     10001  Chelsea/NoMad/West Chelsea     Manhattan               381   \n5     10001  Chelsea/NoMad/West Chelsea     Manhattan               381   \n6     10001  Chelsea/NoMad/West Chelsea     Manhattan               381   \n7     10001  Chelsea/NoMad/West Chelsea     Manhattan               381   \n8     10001  Chelsea/NoMad/West Chelsea     Manhattan               381   \n9     10001  Chelsea/NoMad/West Chelsea     Manhattan               381   \n\n   COVID_CASE_RATE  POP_DENOMINATOR  COVID_DEATH_COUNT  COVID_DEATH_RATE  \\\n0          1616.94         23563.03                 22             93.37   \n1          1616.94         23563.03                 22             93.37   \n2          1616.94         23563.03                 22             93.37   \n3          1616.94         23563.03                 22             93.37   \n4          1616.94         23563.03                 22             93.37   \n5          1616.94         23563.03                 22             93.37   \n6          1616.94         23563.03                 22             93.37   \n7          1616.94         23563.03                 22             93.37   \n8          1616.94         23563.03                 22             93.37   \n9          1616.94         23563.03                 22             93.37   \n\n   PERCENT_POSITIVE  TOTAL_COVID_TESTS         geoid  Median_Income  \\\n0              11.3               3372  86000US10001          88526   \n1              11.3               3372  86000US10001          88526   \n2              11.3               3372  86000US10001          88526   \n3              11.3               3372  86000US10001          88526   \n4              11.3               3372  86000US10001          88526   \n5              11.3               3372  86000US10001          88526   \n6              11.3               3372  86000US10001          88526   \n7              11.3               3372  86000US10001          88526   \n8              11.3               3372  86000US10001          88526   \n9              11.3               3372  86000US10001          88526   \n\n   Population        TRACT  \n0       22924  36061005600  \n1       22924  36061005800  \n2       22924  36061007100  \n3       22924  36061007600  \n4       22924  36061008400  \n5       22924  36061009100  \n6       22924  36061009300  \n7       22924  36061009500  \n8       22924  36061009700  \n9       22924  36061009900  "
          },
          "metadata": {}
        }
      ]
    },
    {
      "metadata": {
        "trusted": true
      },
      "cell_type": "code",
      "source": "# Rename FIPS column to TRACT in SVI file\nsvi = svi.rename(columns={'FIPS': 'TRACT'})",
      "execution_count": 23,
      "outputs": []
    },
    {
      "metadata": {
        "trusted": true
      },
      "cell_type": "code",
      "source": "# Merge SVI file with Merge file\ndf_final = pd.merge(df, svi[['TRACT','E_POV', 'E_UNEMP','E_NOHSDP', 'E_AGE65','E_DISABL','E_SNGPNT','E_MINRTY','E_LIMENG','E_MUNIT'\n,'E_MOBILE'\n,'E_CROWD'\n,'E_NOVEH'\n,'E_GROUPQ'\n]], on= 'TRACT', how= 'left')",
      "execution_count": 24,
      "outputs": []
    },
    {
      "metadata": {
        "trusted": true
      },
      "cell_type": "code",
      "source": "# Prepare data for Health file\nhealth_pivot= health.pivot(columns='Short_Question_Text', values = 'Data_Value')",
      "execution_count": 25,
      "outputs": []
    },
    {
      "metadata": {
        "trusted": true
      },
      "cell_type": "code",
      "source": "health_pivot1 = health_pivot[['COPD','Coronary Heart Disease','Diabetes','High Blood Pressure','Obesity','Chronic Kidney Disease']]",
      "execution_count": 26,
      "outputs": []
    },
    {
      "metadata": {
        "trusted": true
      },
      "cell_type": "code",
      "source": "health1 = health[['PopulationCount',\n       'GeoLocation','CityFIPS', 'TractFIPS',\n       'Short_Question_Text']]",
      "execution_count": 27,
      "outputs": []
    },
    {
      "metadata": {
        "trusted": true
      },
      "cell_type": "code",
      "source": "health_sorted = pd.merge(health1, health_pivot1, left_index=True, right_index=True)",
      "execution_count": 28,
      "outputs": []
    },
    {
      "metadata": {
        "trusted": true
      },
      "cell_type": "code",
      "source": "health_sorted.head()",
      "execution_count": 29,
      "outputs": [
        {
          "output_type": "execute_result",
          "execution_count": 29,
          "data": {
            "text/html": "<div>\n<style scoped>\n    .dataframe tbody tr th:only-of-type {\n        vertical-align: middle;\n    }\n\n    .dataframe tbody tr th {\n        vertical-align: top;\n    }\n\n    .dataframe thead th {\n        text-align: right;\n    }\n</style>\n<table border=\"1\" class=\"dataframe\">\n  <thead>\n    <tr style=\"text-align: right;\">\n      <th></th>\n      <th>PopulationCount</th>\n      <th>GeoLocation</th>\n      <th>CityFIPS</th>\n      <th>TractFIPS</th>\n      <th>Short_Question_Text</th>\n      <th>COPD</th>\n      <th>Coronary Heart Disease</th>\n      <th>Diabetes</th>\n      <th>High Blood Pressure</th>\n      <th>Obesity</th>\n      <th>Chronic Kidney Disease</th>\n    </tr>\n  </thead>\n  <tbody>\n    <tr>\n      <th>0</th>\n      <td>1963</td>\n      <td>(40.6422850405, -73.9274549269)</td>\n      <td>3651000</td>\n      <td>3.604708e+10</td>\n      <td>Stroke</td>\n      <td>NaN</td>\n      <td>NaN</td>\n      <td>NaN</td>\n      <td>NaN</td>\n      <td>NaN</td>\n      <td>NaN</td>\n    </tr>\n    <tr>\n      <th>1</th>\n      <td>4843</td>\n      <td>(40.5594209197, -74.1302415981)</td>\n      <td>3651000</td>\n      <td>3.608501e+10</td>\n      <td>Arthritis</td>\n      <td>NaN</td>\n      <td>NaN</td>\n      <td>NaN</td>\n      <td>NaN</td>\n      <td>NaN</td>\n      <td>NaN</td>\n    </tr>\n    <tr>\n      <th>2</th>\n      <td>113</td>\n      <td>(40.7021026632, -73.8534755061)</td>\n      <td>3651000</td>\n      <td>3.608106e+10</td>\n      <td>Arthritis</td>\n      <td>NaN</td>\n      <td>NaN</td>\n      <td>NaN</td>\n      <td>NaN</td>\n      <td>NaN</td>\n      <td>NaN</td>\n    </tr>\n    <tr>\n      <th>3</th>\n      <td>5280</td>\n      <td>(40.8238904859, -73.9282929536)</td>\n      <td>3651000</td>\n      <td>3.600501e+10</td>\n      <td>High Blood Pressure</td>\n      <td>NaN</td>\n      <td>NaN</td>\n      <td>NaN</td>\n      <td>32.5</td>\n      <td>NaN</td>\n      <td>NaN</td>\n    </tr>\n    <tr>\n      <th>4</th>\n      <td>4299</td>\n      <td>(40.5432028659, -74.1898281432)</td>\n      <td>3651000</td>\n      <td>3.608502e+10</td>\n      <td>Binge Drinking</td>\n      <td>NaN</td>\n      <td>NaN</td>\n      <td>NaN</td>\n      <td>NaN</td>\n      <td>NaN</td>\n      <td>NaN</td>\n    </tr>\n  </tbody>\n</table>\n</div>",
            "text/plain": "   PopulationCount                      GeoLocation  CityFIPS     TractFIPS  \\\n0             1963  (40.6422850405, -73.9274549269)   3651000  3.604708e+10   \n1             4843  (40.5594209197, -74.1302415981)   3651000  3.608501e+10   \n2              113  (40.7021026632, -73.8534755061)   3651000  3.608106e+10   \n3             5280  (40.8238904859, -73.9282929536)   3651000  3.600501e+10   \n4             4299  (40.5432028659, -74.1898281432)   3651000  3.608502e+10   \n\n   Short_Question_Text  COPD  Coronary Heart Disease  Diabetes  \\\n0               Stroke   NaN                     NaN       NaN   \n1            Arthritis   NaN                     NaN       NaN   \n2            Arthritis   NaN                     NaN       NaN   \n3  High Blood Pressure   NaN                     NaN       NaN   \n4       Binge Drinking   NaN                     NaN       NaN   \n\n   High Blood Pressure  Obesity  Chronic Kidney Disease  \n0                  NaN      NaN                     NaN  \n1                  NaN      NaN                     NaN  \n2                  NaN      NaN                     NaN  \n3                 32.5      NaN                     NaN  \n4                  NaN      NaN                     NaN  "
          },
          "metadata": {}
        }
      ]
    },
    {
      "metadata": {
        "trusted": true,
        "scrolled": false
      },
      "cell_type": "code",
      "source": "#Convert % data to count in Health file\nchronic_heatlh = ['COPD', 'Coronary Heart Disease', 'Diabetes',\n       'High Blood Pressure', 'Obesity', 'Chronic Kidney Disease']\n\nfor i in chronic_heatlh:\n    count_i = 'count' + i\n    health_sorted[count_i] = (health_sorted['PopulationCount']*health_sorted[i]) / 100",
      "execution_count": 30,
      "outputs": []
    },
    {
      "metadata": {
        "trusted": true
      },
      "cell_type": "code",
      "source": "# Rename FIPS column to TRACT in Health file\nhealth_sorted = health_sorted.rename(columns={'TractFIPS': 'TRACT'})",
      "execution_count": 31,
      "outputs": []
    },
    {
      "metadata": {
        "trusted": true
      },
      "cell_type": "code",
      "source": "# Merge All DATA based on Tract Census\ndf_final = pd.merge(health_sorted,df_final,on='TRACT', how='left')",
      "execution_count": 32,
      "outputs": []
    },
    {
      "metadata": {
        "trusted": true,
        "scrolled": true
      },
      "cell_type": "code",
      "source": "df_final.head()",
      "execution_count": 33,
      "outputs": [
        {
          "output_type": "execute_result",
          "execution_count": 33,
          "data": {
            "text/html": "<div>\n<style scoped>\n    .dataframe tbody tr th:only-of-type {\n        vertical-align: middle;\n    }\n\n    .dataframe tbody tr th {\n        vertical-align: top;\n    }\n\n    .dataframe thead th {\n        text-align: right;\n    }\n</style>\n<table border=\"1\" class=\"dataframe\">\n  <thead>\n    <tr style=\"text-align: right;\">\n      <th></th>\n      <th>PopulationCount</th>\n      <th>GeoLocation</th>\n      <th>CityFIPS</th>\n      <th>TRACT</th>\n      <th>Short_Question_Text</th>\n      <th>COPD</th>\n      <th>Coronary Heart Disease</th>\n      <th>Diabetes</th>\n      <th>High Blood Pressure</th>\n      <th>Obesity</th>\n      <th>...</th>\n      <th>E_AGE65</th>\n      <th>E_DISABL</th>\n      <th>E_SNGPNT</th>\n      <th>E_MINRTY</th>\n      <th>E_LIMENG</th>\n      <th>E_MUNIT</th>\n      <th>E_MOBILE</th>\n      <th>E_CROWD</th>\n      <th>E_NOVEH</th>\n      <th>E_GROUPQ</th>\n    </tr>\n  </thead>\n  <tbody>\n    <tr>\n      <th>0</th>\n      <td>1963</td>\n      <td>(40.6422850405, -73.9274549269)</td>\n      <td>3651000</td>\n      <td>3.604708e+10</td>\n      <td>Stroke</td>\n      <td>NaN</td>\n      <td>NaN</td>\n      <td>NaN</td>\n      <td>NaN</td>\n      <td>NaN</td>\n      <td>...</td>\n      <td>406.0</td>\n      <td>141.0</td>\n      <td>127.0</td>\n      <td>1890.0</td>\n      <td>41.0</td>\n      <td>0.0</td>\n      <td>25.0</td>\n      <td>37.0</td>\n      <td>166.0</td>\n      <td>6.0</td>\n    </tr>\n    <tr>\n      <th>1</th>\n      <td>4843</td>\n      <td>(40.5594209197, -74.1302415981)</td>\n      <td>3651000</td>\n      <td>3.608501e+10</td>\n      <td>Arthritis</td>\n      <td>NaN</td>\n      <td>NaN</td>\n      <td>NaN</td>\n      <td>NaN</td>\n      <td>NaN</td>\n      <td>...</td>\n      <td>855.0</td>\n      <td>450.0</td>\n      <td>30.0</td>\n      <td>668.0</td>\n      <td>126.0</td>\n      <td>93.0</td>\n      <td>0.0</td>\n      <td>36.0</td>\n      <td>226.0</td>\n      <td>12.0</td>\n    </tr>\n    <tr>\n      <th>2</th>\n      <td>113</td>\n      <td>(40.7021026632, -73.8534755061)</td>\n      <td>3651000</td>\n      <td>3.608106e+10</td>\n      <td>Arthritis</td>\n      <td>NaN</td>\n      <td>NaN</td>\n      <td>NaN</td>\n      <td>NaN</td>\n      <td>NaN</td>\n      <td>...</td>\n      <td>0.0</td>\n      <td>0.0</td>\n      <td>0.0</td>\n      <td>0.0</td>\n      <td>0.0</td>\n      <td>0.0</td>\n      <td>0.0</td>\n      <td>0.0</td>\n      <td>0.0</td>\n      <td>0.0</td>\n    </tr>\n    <tr>\n      <th>3</th>\n      <td>113</td>\n      <td>(40.7021026632, -73.8534755061)</td>\n      <td>3651000</td>\n      <td>3.608106e+10</td>\n      <td>Arthritis</td>\n      <td>NaN</td>\n      <td>NaN</td>\n      <td>NaN</td>\n      <td>NaN</td>\n      <td>NaN</td>\n      <td>...</td>\n      <td>0.0</td>\n      <td>0.0</td>\n      <td>0.0</td>\n      <td>0.0</td>\n      <td>0.0</td>\n      <td>0.0</td>\n      <td>0.0</td>\n      <td>0.0</td>\n      <td>0.0</td>\n      <td>0.0</td>\n    </tr>\n    <tr>\n      <th>4</th>\n      <td>5280</td>\n      <td>(40.8238904859, -73.9282929536)</td>\n      <td>3651000</td>\n      <td>3.600501e+10</td>\n      <td>High Blood Pressure</td>\n      <td>NaN</td>\n      <td>NaN</td>\n      <td>NaN</td>\n      <td>32.5</td>\n      <td>NaN</td>\n      <td>...</td>\n      <td>412.0</td>\n      <td>913.0</td>\n      <td>325.0</td>\n      <td>4133.0</td>\n      <td>790.0</td>\n      <td>1735.0</td>\n      <td>0.0</td>\n      <td>148.0</td>\n      <td>1321.0</td>\n      <td>54.0</td>\n    </tr>\n  </tbody>\n</table>\n<p>5 rows × 43 columns</p>\n</div>",
            "text/plain": "   PopulationCount                      GeoLocation  CityFIPS         TRACT  \\\n0             1963  (40.6422850405, -73.9274549269)   3651000  3.604708e+10   \n1             4843  (40.5594209197, -74.1302415981)   3651000  3.608501e+10   \n2              113  (40.7021026632, -73.8534755061)   3651000  3.608106e+10   \n3              113  (40.7021026632, -73.8534755061)   3651000  3.608106e+10   \n4             5280  (40.8238904859, -73.9282929536)   3651000  3.600501e+10   \n\n   Short_Question_Text  COPD  Coronary Heart Disease  Diabetes  \\\n0               Stroke   NaN                     NaN       NaN   \n1            Arthritis   NaN                     NaN       NaN   \n2            Arthritis   NaN                     NaN       NaN   \n3            Arthritis   NaN                     NaN       NaN   \n4  High Blood Pressure   NaN                     NaN       NaN   \n\n   High Blood Pressure  Obesity   ...     E_AGE65  E_DISABL  E_SNGPNT  \\\n0                  NaN      NaN   ...       406.0     141.0     127.0   \n1                  NaN      NaN   ...       855.0     450.0      30.0   \n2                  NaN      NaN   ...         0.0       0.0       0.0   \n3                  NaN      NaN   ...         0.0       0.0       0.0   \n4                 32.5      NaN   ...       412.0     913.0     325.0   \n\n   E_MINRTY  E_LIMENG  E_MUNIT  E_MOBILE  E_CROWD E_NOVEH E_GROUPQ  \n0    1890.0      41.0      0.0      25.0     37.0   166.0      6.0  \n1     668.0     126.0     93.0       0.0     36.0   226.0     12.0  \n2       0.0       0.0      0.0       0.0      0.0     0.0      0.0  \n3       0.0       0.0      0.0       0.0      0.0     0.0      0.0  \n4    4133.0     790.0   1735.0       0.0    148.0  1321.0     54.0  \n\n[5 rows x 43 columns]"
          },
          "metadata": {}
        }
      ]
    },
    {
      "metadata": {
        "trusted": true
      },
      "cell_type": "code",
      "source": "df_final.columns",
      "execution_count": 34,
      "outputs": [
        {
          "output_type": "execute_result",
          "execution_count": 34,
          "data": {
            "text/plain": "Index(['PopulationCount', 'GeoLocation', 'CityFIPS', 'TRACT',\n       'Short_Question_Text', 'COPD', 'Coronary Heart Disease', 'Diabetes',\n       'High Blood Pressure', 'Obesity', 'Chronic Kidney Disease', 'countCOPD',\n       'countCoronary Heart Disease', 'countDiabetes',\n       'countHigh Blood Pressure', 'countObesity',\n       'countChronic Kidney Disease', 'Zip_Code', 'NEIGHBORHOOD_NAME',\n       'BOROUGH_GROUP', 'COVID_CASE_COUNT', 'COVID_CASE_RATE',\n       'POP_DENOMINATOR', 'COVID_DEATH_COUNT', 'COVID_DEATH_RATE',\n       'PERCENT_POSITIVE', 'TOTAL_COVID_TESTS', 'geoid', 'Median_Income',\n       'Population', 'E_POV', 'E_UNEMP', 'E_NOHSDP', 'E_AGE65', 'E_DISABL',\n       'E_SNGPNT', 'E_MINRTY', 'E_LIMENG', 'E_MUNIT', 'E_MOBILE', 'E_CROWD',\n       'E_NOVEH', 'E_GROUPQ'],\n      dtype='object')"
          },
          "metadata": {}
        }
      ]
    },
    {
      "metadata": {
        "trusted": true
      },
      "cell_type": "code",
      "source": "# Group the estimates by Zip Code from SVI file\ndf_vul= [['E_POV', 'E_UNEMP','E_NOHSDP', 'E_AGE65',\n       'E_DISABL', 'E_SNGPNT', 'E_MINRTY', 'E_LIMENG', 'E_MUNIT', 'E_MOBILE',\n       'E_CROWD', 'E_NOVEH', 'E_GROUPQ']]\n\nfor i in df_vul:\n    sum_svi = df_final.groupby('Zip_Code')[i].sum().reset_index()",
      "execution_count": 35,
      "outputs": []
    },
    {
      "metadata": {
        "trusted": true
      },
      "cell_type": "code",
      "source": "sum_svi.head()",
      "execution_count": 36,
      "outputs": [
        {
          "output_type": "execute_result",
          "execution_count": 36,
          "data": {
            "text/html": "<div>\n<style scoped>\n    .dataframe tbody tr th:only-of-type {\n        vertical-align: middle;\n    }\n\n    .dataframe tbody tr th {\n        vertical-align: top;\n    }\n\n    .dataframe thead th {\n        text-align: right;\n    }\n</style>\n<table border=\"1\" class=\"dataframe\">\n  <thead>\n    <tr style=\"text-align: right;\">\n      <th></th>\n      <th>Zip_Code</th>\n      <th>E_POV</th>\n      <th>E_UNEMP</th>\n      <th>E_NOHSDP</th>\n      <th>E_AGE65</th>\n      <th>E_DISABL</th>\n      <th>E_SNGPNT</th>\n      <th>E_MINRTY</th>\n      <th>E_LIMENG</th>\n      <th>E_MUNIT</th>\n      <th>E_MOBILE</th>\n      <th>E_CROWD</th>\n      <th>E_NOVEH</th>\n      <th>E_GROUPQ</th>\n    </tr>\n  </thead>\n  <tbody>\n    <tr>\n      <th>0</th>\n      <td>10001.0</td>\n      <td>187376.0</td>\n      <td>42924.0</td>\n      <td>74536.0</td>\n      <td>205688.0</td>\n      <td>120624.0</td>\n      <td>21756.0</td>\n      <td>602532.0</td>\n      <td>67788.0</td>\n      <td>912604.0</td>\n      <td>896.0</td>\n      <td>30072.0</td>\n      <td>700336.0</td>\n      <td>53732.0</td>\n    </tr>\n    <tr>\n      <th>1</th>\n      <td>10002.0</td>\n      <td>658140.0</td>\n      <td>75348.0</td>\n      <td>603456.0</td>\n      <td>486528.0</td>\n      <td>351372.0</td>\n      <td>77756.0</td>\n      <td>1804264.0</td>\n      <td>631316.0</td>\n      <td>1028440.0</td>\n      <td>700.0</td>\n      <td>84784.0</td>\n      <td>886928.0</td>\n      <td>53788.0</td>\n    </tr>\n    <tr>\n      <th>2</th>\n      <td>10003.0</td>\n      <td>158956.0</td>\n      <td>67368.0</td>\n      <td>54012.0</td>\n      <td>277564.0</td>\n      <td>152852.0</td>\n      <td>19320.0</td>\n      <td>590016.0</td>\n      <td>28532.0</td>\n      <td>1070580.0</td>\n      <td>0.0</td>\n      <td>39424.0</td>\n      <td>821968.0</td>\n      <td>315364.0</td>\n    </tr>\n    <tr>\n      <th>3</th>\n      <td>10004.0</td>\n      <td>39984.0</td>\n      <td>15344.0</td>\n      <td>7308.0</td>\n      <td>33992.0</td>\n      <td>17584.0</td>\n      <td>11004.0</td>\n      <td>228844.0</td>\n      <td>5488.0</td>\n      <td>432096.0</td>\n      <td>0.0</td>\n      <td>34188.0</td>\n      <td>287924.0</td>\n      <td>588.0</td>\n    </tr>\n    <tr>\n      <th>4</th>\n      <td>10005.0</td>\n      <td>44884.0</td>\n      <td>13888.0</td>\n      <td>7952.0</td>\n      <td>12544.0</td>\n      <td>10220.0</td>\n      <td>6580.0</td>\n      <td>159908.0</td>\n      <td>3220.0</td>\n      <td>290752.0</td>\n      <td>700.0</td>\n      <td>25452.0</td>\n      <td>202328.0</td>\n      <td>16240.0</td>\n    </tr>\n  </tbody>\n</table>\n</div>",
            "text/plain": "   Zip_Code     E_POV  E_UNEMP  E_NOHSDP   E_AGE65  E_DISABL  E_SNGPNT  \\\n0   10001.0  187376.0  42924.0   74536.0  205688.0  120624.0   21756.0   \n1   10002.0  658140.0  75348.0  603456.0  486528.0  351372.0   77756.0   \n2   10003.0  158956.0  67368.0   54012.0  277564.0  152852.0   19320.0   \n3   10004.0   39984.0  15344.0    7308.0   33992.0   17584.0   11004.0   \n4   10005.0   44884.0  13888.0    7952.0   12544.0   10220.0    6580.0   \n\n    E_MINRTY  E_LIMENG    E_MUNIT  E_MOBILE  E_CROWD   E_NOVEH  E_GROUPQ  \n0   602532.0   67788.0   912604.0     896.0  30072.0  700336.0   53732.0  \n1  1804264.0  631316.0  1028440.0     700.0  84784.0  886928.0   53788.0  \n2   590016.0   28532.0  1070580.0       0.0  39424.0  821968.0  315364.0  \n3   228844.0    5488.0   432096.0       0.0  34188.0  287924.0     588.0  \n4   159908.0    3220.0   290752.0     700.0  25452.0  202328.0   16240.0  "
          },
          "metadata": {}
        }
      ]
    },
    {
      "metadata": {
        "trusted": true
      },
      "cell_type": "code",
      "source": "#Merge calculated estimation of SVI with Merge file\ndf1 = pd.merge(sum_svi, df_merge, on='Zip_Code')",
      "execution_count": 37,
      "outputs": []
    },
    {
      "metadata": {
        "trusted": true
      },
      "cell_type": "code",
      "source": "df1.head()",
      "execution_count": 38,
      "outputs": [
        {
          "output_type": "execute_result",
          "execution_count": 38,
          "data": {
            "text/html": "<div>\n<style scoped>\n    .dataframe tbody tr th:only-of-type {\n        vertical-align: middle;\n    }\n\n    .dataframe tbody tr th {\n        vertical-align: top;\n    }\n\n    .dataframe thead th {\n        text-align: right;\n    }\n</style>\n<table border=\"1\" class=\"dataframe\">\n  <thead>\n    <tr style=\"text-align: right;\">\n      <th></th>\n      <th>Zip_Code</th>\n      <th>E_POV</th>\n      <th>E_UNEMP</th>\n      <th>E_NOHSDP</th>\n      <th>E_AGE65</th>\n      <th>E_DISABL</th>\n      <th>E_SNGPNT</th>\n      <th>E_MINRTY</th>\n      <th>E_LIMENG</th>\n      <th>E_MUNIT</th>\n      <th>...</th>\n      <th>COVID_CASE_COUNT</th>\n      <th>COVID_CASE_RATE</th>\n      <th>POP_DENOMINATOR</th>\n      <th>COVID_DEATH_COUNT</th>\n      <th>COVID_DEATH_RATE</th>\n      <th>PERCENT_POSITIVE</th>\n      <th>TOTAL_COVID_TESTS</th>\n      <th>geoid</th>\n      <th>Median_Income</th>\n      <th>Population</th>\n    </tr>\n  </thead>\n  <tbody>\n    <tr>\n      <th>0</th>\n      <td>10001.0</td>\n      <td>187376.0</td>\n      <td>42924.0</td>\n      <td>74536.0</td>\n      <td>205688.0</td>\n      <td>120624.0</td>\n      <td>21756.0</td>\n      <td>602532.0</td>\n      <td>67788.0</td>\n      <td>912604.0</td>\n      <td>...</td>\n      <td>381</td>\n      <td>1616.94</td>\n      <td>23563.03</td>\n      <td>22</td>\n      <td>93.37</td>\n      <td>11.30</td>\n      <td>3372</td>\n      <td>86000US10001</td>\n      <td>88526</td>\n      <td>22924</td>\n    </tr>\n    <tr>\n      <th>1</th>\n      <td>10002.0</td>\n      <td>658140.0</td>\n      <td>75348.0</td>\n      <td>603456.0</td>\n      <td>486528.0</td>\n      <td>351372.0</td>\n      <td>77756.0</td>\n      <td>1804264.0</td>\n      <td>631316.0</td>\n      <td>1028440.0</td>\n      <td>...</td>\n      <td>1081</td>\n      <td>1408.37</td>\n      <td>76755.41</td>\n      <td>152</td>\n      <td>198.03</td>\n      <td>15.89</td>\n      <td>6803</td>\n      <td>86000US10002</td>\n      <td>35859</td>\n      <td>74993</td>\n    </tr>\n    <tr>\n      <th>2</th>\n      <td>10003.0</td>\n      <td>158956.0</td>\n      <td>67368.0</td>\n      <td>54012.0</td>\n      <td>277564.0</td>\n      <td>152852.0</td>\n      <td>19320.0</td>\n      <td>590016.0</td>\n      <td>28532.0</td>\n      <td>1070580.0</td>\n      <td>...</td>\n      <td>463</td>\n      <td>860.57</td>\n      <td>53801.62</td>\n      <td>34</td>\n      <td>63.20</td>\n      <td>8.71</td>\n      <td>5316</td>\n      <td>86000US10003</td>\n      <td>112131</td>\n      <td>54682</td>\n    </tr>\n    <tr>\n      <th>3</th>\n      <td>10004.0</td>\n      <td>39984.0</td>\n      <td>15344.0</td>\n      <td>7308.0</td>\n      <td>33992.0</td>\n      <td>17584.0</td>\n      <td>11004.0</td>\n      <td>228844.0</td>\n      <td>5488.0</td>\n      <td>432096.0</td>\n      <td>...</td>\n      <td>32</td>\n      <td>876.57</td>\n      <td>3650.61</td>\n      <td>1</td>\n      <td>27.39</td>\n      <td>9.22</td>\n      <td>347</td>\n      <td>86000US10004</td>\n      <td>157645</td>\n      <td>3028</td>\n    </tr>\n    <tr>\n      <th>4</th>\n      <td>10005.0</td>\n      <td>44884.0</td>\n      <td>13888.0</td>\n      <td>7952.0</td>\n      <td>12544.0</td>\n      <td>10220.0</td>\n      <td>6580.0</td>\n      <td>159908.0</td>\n      <td>3220.0</td>\n      <td>290752.0</td>\n      <td>...</td>\n      <td>64</td>\n      <td>762.26</td>\n      <td>8396.11</td>\n      <td>2</td>\n      <td>23.82</td>\n      <td>8.27</td>\n      <td>774</td>\n      <td>86000US10005</td>\n      <td>173333</td>\n      <td>8831</td>\n    </tr>\n  </tbody>\n</table>\n<p>5 rows × 26 columns</p>\n</div>",
            "text/plain": "   Zip_Code     E_POV  E_UNEMP  E_NOHSDP   E_AGE65  E_DISABL  E_SNGPNT  \\\n0   10001.0  187376.0  42924.0   74536.0  205688.0  120624.0   21756.0   \n1   10002.0  658140.0  75348.0  603456.0  486528.0  351372.0   77756.0   \n2   10003.0  158956.0  67368.0   54012.0  277564.0  152852.0   19320.0   \n3   10004.0   39984.0  15344.0    7308.0   33992.0   17584.0   11004.0   \n4   10005.0   44884.0  13888.0    7952.0   12544.0   10220.0    6580.0   \n\n    E_MINRTY  E_LIMENG    E_MUNIT     ...      COVID_CASE_COUNT  \\\n0   602532.0   67788.0   912604.0     ...                   381   \n1  1804264.0  631316.0  1028440.0     ...                  1081   \n2   590016.0   28532.0  1070580.0     ...                   463   \n3   228844.0    5488.0   432096.0     ...                    32   \n4   159908.0    3220.0   290752.0     ...                    64   \n\n   COVID_CASE_RATE  POP_DENOMINATOR  COVID_DEATH_COUNT COVID_DEATH_RATE  \\\n0          1616.94         23563.03                 22            93.37   \n1          1408.37         76755.41                152           198.03   \n2           860.57         53801.62                 34            63.20   \n3           876.57          3650.61                  1            27.39   \n4           762.26          8396.11                  2            23.82   \n\n  PERCENT_POSITIVE  TOTAL_COVID_TESTS         geoid  Median_Income  Population  \n0            11.30               3372  86000US10001          88526       22924  \n1            15.89               6803  86000US10002          35859       74993  \n2             8.71               5316  86000US10003         112131       54682  \n3             9.22                347  86000US10004         157645        3028  \n4             8.27                774  86000US10005         173333        8831  \n\n[5 rows x 26 columns]"
          },
          "metadata": {}
        }
      ]
    },
    {
      "metadata": {
        "trusted": true
      },
      "cell_type": "code",
      "source": "df1.columns",
      "execution_count": 39,
      "outputs": [
        {
          "output_type": "execute_result",
          "execution_count": 39,
          "data": {
            "text/plain": "Index(['Zip_Code', 'E_POV', 'E_UNEMP', 'E_NOHSDP', 'E_AGE65', 'E_DISABL',\n       'E_SNGPNT', 'E_MINRTY', 'E_LIMENG', 'E_MUNIT', 'E_MOBILE', 'E_CROWD',\n       'E_NOVEH', 'E_GROUPQ', 'NEIGHBORHOOD_NAME', 'BOROUGH_GROUP',\n       'COVID_CASE_COUNT', 'COVID_CASE_RATE', 'POP_DENOMINATOR',\n       'COVID_DEATH_COUNT', 'COVID_DEATH_RATE', 'PERCENT_POSITIVE',\n       'TOTAL_COVID_TESTS', 'geoid', 'Median_Income', 'Population'],\n      dtype='object')"
          },
          "metadata": {}
        }
      ]
    },
    {
      "metadata": {
        "trusted": true,
        "scrolled": true
      },
      "cell_type": "code",
      "source": "df_final.columns",
      "execution_count": 40,
      "outputs": [
        {
          "output_type": "execute_result",
          "execution_count": 40,
          "data": {
            "text/plain": "Index(['PopulationCount', 'GeoLocation', 'CityFIPS', 'TRACT',\n       'Short_Question_Text', 'COPD', 'Coronary Heart Disease', 'Diabetes',\n       'High Blood Pressure', 'Obesity', 'Chronic Kidney Disease', 'countCOPD',\n       'countCoronary Heart Disease', 'countDiabetes',\n       'countHigh Blood Pressure', 'countObesity',\n       'countChronic Kidney Disease', 'Zip_Code', 'NEIGHBORHOOD_NAME',\n       'BOROUGH_GROUP', 'COVID_CASE_COUNT', 'COVID_CASE_RATE',\n       'POP_DENOMINATOR', 'COVID_DEATH_COUNT', 'COVID_DEATH_RATE',\n       'PERCENT_POSITIVE', 'TOTAL_COVID_TESTS', 'geoid', 'Median_Income',\n       'Population', 'E_POV', 'E_UNEMP', 'E_NOHSDP', 'E_AGE65', 'E_DISABL',\n       'E_SNGPNT', 'E_MINRTY', 'E_LIMENG', 'E_MUNIT', 'E_MOBILE', 'E_CROWD',\n       'E_NOVEH', 'E_GROUPQ'],\n      dtype='object')"
          },
          "metadata": {}
        }
      ]
    },
    {
      "metadata": {
        "trusted": true
      },
      "cell_type": "code",
      "source": "# Group the count by Zip Code from Health file\n\ndf_chronic_heatlh = [['countCOPD',\n       'countCoronary Heart Disease', 'countDiabetes',\n       'countHigh Blood Pressure', 'countObesity',\n       'countChronic Kidney Disease']]\nfor i in df_chronic_heatlh:\n    sum_health = df_final.groupby('Zip_Code')[i].sum().reset_index()",
      "execution_count": 41,
      "outputs": []
    },
    {
      "metadata": {
        "trusted": true
      },
      "cell_type": "code",
      "source": "sum_health.head()",
      "execution_count": 42,
      "outputs": [
        {
          "output_type": "execute_result",
          "execution_count": 42,
          "data": {
            "text/html": "<div>\n<style scoped>\n    .dataframe tbody tr th:only-of-type {\n        vertical-align: middle;\n    }\n\n    .dataframe tbody tr th {\n        vertical-align: top;\n    }\n\n    .dataframe thead th {\n        text-align: right;\n    }\n</style>\n<table border=\"1\" class=\"dataframe\">\n  <thead>\n    <tr style=\"text-align: right;\">\n      <th></th>\n      <th>Zip_Code</th>\n      <th>countCOPD</th>\n      <th>countCoronary Heart Disease</th>\n      <th>countDiabetes</th>\n      <th>countHigh Blood Pressure</th>\n      <th>countObesity</th>\n      <th>countChronic Kidney Disease</th>\n    </tr>\n  </thead>\n  <tbody>\n    <tr>\n      <th>0</th>\n      <td>10001.0</td>\n      <td>1663.711</td>\n      <td>1775.003</td>\n      <td>2870.399</td>\n      <td>9513.248</td>\n      <td>7120.635</td>\n      <td>990.075</td>\n    </tr>\n    <tr>\n      <th>1</th>\n      <td>10002.0</td>\n      <td>5561.996</td>\n      <td>6309.078</td>\n      <td>12727.287</td>\n      <td>26744.597</td>\n      <td>15356.364</td>\n      <td>3359.806</td>\n    </tr>\n    <tr>\n      <th>2</th>\n      <td>10003.0</td>\n      <td>2282.417</td>\n      <td>2292.698</td>\n      <td>3515.833</td>\n      <td>13022.208</td>\n      <td>10161.387</td>\n      <td>1336.878</td>\n    </tr>\n    <tr>\n      <th>3</th>\n      <td>10004.0</td>\n      <td>326.023</td>\n      <td>286.879</td>\n      <td>548.126</td>\n      <td>2218.680</td>\n      <td>2222.452</td>\n      <td>220.274</td>\n    </tr>\n    <tr>\n      <th>4</th>\n      <td>10005.0</td>\n      <td>255.042</td>\n      <td>174.924</td>\n      <td>339.448</td>\n      <td>1512.843</td>\n      <td>1829.027</td>\n      <td>156.415</td>\n    </tr>\n  </tbody>\n</table>\n</div>",
            "text/plain": "   Zip_Code  countCOPD  countCoronary Heart Disease  countDiabetes  \\\n0   10001.0   1663.711                     1775.003       2870.399   \n1   10002.0   5561.996                     6309.078      12727.287   \n2   10003.0   2282.417                     2292.698       3515.833   \n3   10004.0    326.023                      286.879        548.126   \n4   10005.0    255.042                      174.924        339.448   \n\n   countHigh Blood Pressure  countObesity  countChronic Kidney Disease  \n0                  9513.248      7120.635                      990.075  \n1                 26744.597     15356.364                     3359.806  \n2                 13022.208     10161.387                     1336.878  \n3                  2218.680      2222.452                      220.274  \n4                  1512.843      1829.027                      156.415  "
          },
          "metadata": {}
        }
      ]
    },
    {
      "metadata": {
        "trusted": true
      },
      "cell_type": "code",
      "source": "# Rename columns in Health file\nsum_health = sum_health.rename(columns={'countCOPD': 'COPD', 'countCoronary Heart Disease': 'Coronary Heart Disease',\n                                       'countDiabetes': 'Diabetes', 'countHigh Blood Pressure': 'High Blood Pressure',\n                                       'countObesity': 'Obesity', 'countChronic Kidney Disease': 'Chronic Kidney Disease'})",
      "execution_count": 43,
      "outputs": []
    },
    {
      "metadata": {
        "trusted": true
      },
      "cell_type": "code",
      "source": "# Merge ALL DATA based on Zip Code level\ndf2 = pd.merge(df1,sum_health,on='Zip_Code', how='left')",
      "execution_count": 44,
      "outputs": []
    },
    {
      "metadata": {
        "trusted": true
      },
      "cell_type": "code",
      "source": "df2.head()",
      "execution_count": 45,
      "outputs": [
        {
          "output_type": "execute_result",
          "execution_count": 45,
          "data": {
            "text/html": "<div>\n<style scoped>\n    .dataframe tbody tr th:only-of-type {\n        vertical-align: middle;\n    }\n\n    .dataframe tbody tr th {\n        vertical-align: top;\n    }\n\n    .dataframe thead th {\n        text-align: right;\n    }\n</style>\n<table border=\"1\" class=\"dataframe\">\n  <thead>\n    <tr style=\"text-align: right;\">\n      <th></th>\n      <th>Zip_Code</th>\n      <th>E_POV</th>\n      <th>E_UNEMP</th>\n      <th>E_NOHSDP</th>\n      <th>E_AGE65</th>\n      <th>E_DISABL</th>\n      <th>E_SNGPNT</th>\n      <th>E_MINRTY</th>\n      <th>E_LIMENG</th>\n      <th>E_MUNIT</th>\n      <th>...</th>\n      <th>TOTAL_COVID_TESTS</th>\n      <th>geoid</th>\n      <th>Median_Income</th>\n      <th>Population</th>\n      <th>COPD</th>\n      <th>Coronary Heart Disease</th>\n      <th>Diabetes</th>\n      <th>High Blood Pressure</th>\n      <th>Obesity</th>\n      <th>Chronic Kidney Disease</th>\n    </tr>\n  </thead>\n  <tbody>\n    <tr>\n      <th>0</th>\n      <td>10001.0</td>\n      <td>187376.0</td>\n      <td>42924.0</td>\n      <td>74536.0</td>\n      <td>205688.0</td>\n      <td>120624.0</td>\n      <td>21756.0</td>\n      <td>602532.0</td>\n      <td>67788.0</td>\n      <td>912604.0</td>\n      <td>...</td>\n      <td>3372</td>\n      <td>86000US10001</td>\n      <td>88526</td>\n      <td>22924</td>\n      <td>1663.711</td>\n      <td>1775.003</td>\n      <td>2870.399</td>\n      <td>9513.248</td>\n      <td>7120.635</td>\n      <td>990.075</td>\n    </tr>\n    <tr>\n      <th>1</th>\n      <td>10002.0</td>\n      <td>658140.0</td>\n      <td>75348.0</td>\n      <td>603456.0</td>\n      <td>486528.0</td>\n      <td>351372.0</td>\n      <td>77756.0</td>\n      <td>1804264.0</td>\n      <td>631316.0</td>\n      <td>1028440.0</td>\n      <td>...</td>\n      <td>6803</td>\n      <td>86000US10002</td>\n      <td>35859</td>\n      <td>74993</td>\n      <td>5561.996</td>\n      <td>6309.078</td>\n      <td>12727.287</td>\n      <td>26744.597</td>\n      <td>15356.364</td>\n      <td>3359.806</td>\n    </tr>\n    <tr>\n      <th>2</th>\n      <td>10003.0</td>\n      <td>158956.0</td>\n      <td>67368.0</td>\n      <td>54012.0</td>\n      <td>277564.0</td>\n      <td>152852.0</td>\n      <td>19320.0</td>\n      <td>590016.0</td>\n      <td>28532.0</td>\n      <td>1070580.0</td>\n      <td>...</td>\n      <td>5316</td>\n      <td>86000US10003</td>\n      <td>112131</td>\n      <td>54682</td>\n      <td>2282.417</td>\n      <td>2292.698</td>\n      <td>3515.833</td>\n      <td>13022.208</td>\n      <td>10161.387</td>\n      <td>1336.878</td>\n    </tr>\n    <tr>\n      <th>3</th>\n      <td>10004.0</td>\n      <td>39984.0</td>\n      <td>15344.0</td>\n      <td>7308.0</td>\n      <td>33992.0</td>\n      <td>17584.0</td>\n      <td>11004.0</td>\n      <td>228844.0</td>\n      <td>5488.0</td>\n      <td>432096.0</td>\n      <td>...</td>\n      <td>347</td>\n      <td>86000US10004</td>\n      <td>157645</td>\n      <td>3028</td>\n      <td>326.023</td>\n      <td>286.879</td>\n      <td>548.126</td>\n      <td>2218.680</td>\n      <td>2222.452</td>\n      <td>220.274</td>\n    </tr>\n    <tr>\n      <th>4</th>\n      <td>10005.0</td>\n      <td>44884.0</td>\n      <td>13888.0</td>\n      <td>7952.0</td>\n      <td>12544.0</td>\n      <td>10220.0</td>\n      <td>6580.0</td>\n      <td>159908.0</td>\n      <td>3220.0</td>\n      <td>290752.0</td>\n      <td>...</td>\n      <td>774</td>\n      <td>86000US10005</td>\n      <td>173333</td>\n      <td>8831</td>\n      <td>255.042</td>\n      <td>174.924</td>\n      <td>339.448</td>\n      <td>1512.843</td>\n      <td>1829.027</td>\n      <td>156.415</td>\n    </tr>\n  </tbody>\n</table>\n<p>5 rows × 32 columns</p>\n</div>",
            "text/plain": "   Zip_Code     E_POV  E_UNEMP  E_NOHSDP   E_AGE65  E_DISABL  E_SNGPNT  \\\n0   10001.0  187376.0  42924.0   74536.0  205688.0  120624.0   21756.0   \n1   10002.0  658140.0  75348.0  603456.0  486528.0  351372.0   77756.0   \n2   10003.0  158956.0  67368.0   54012.0  277564.0  152852.0   19320.0   \n3   10004.0   39984.0  15344.0    7308.0   33992.0   17584.0   11004.0   \n4   10005.0   44884.0  13888.0    7952.0   12544.0   10220.0    6580.0   \n\n    E_MINRTY  E_LIMENG    E_MUNIT           ...            TOTAL_COVID_TESTS  \\\n0   602532.0   67788.0   912604.0           ...                         3372   \n1  1804264.0  631316.0  1028440.0           ...                         6803   \n2   590016.0   28532.0  1070580.0           ...                         5316   \n3   228844.0    5488.0   432096.0           ...                          347   \n4   159908.0    3220.0   290752.0           ...                          774   \n\n          geoid  Median_Income  Population      COPD Coronary Heart Disease  \\\n0  86000US10001          88526       22924  1663.711               1775.003   \n1  86000US10002          35859       74993  5561.996               6309.078   \n2  86000US10003         112131       54682  2282.417               2292.698   \n3  86000US10004         157645        3028   326.023                286.879   \n4  86000US10005         173333        8831   255.042                174.924   \n\n    Diabetes  High Blood Pressure    Obesity  Chronic Kidney Disease  \n0   2870.399             9513.248   7120.635                 990.075  \n1  12727.287            26744.597  15356.364                3359.806  \n2   3515.833            13022.208  10161.387                1336.878  \n3    548.126             2218.680   2222.452                 220.274  \n4    339.448             1512.843   1829.027                 156.415  \n\n[5 rows x 32 columns]"
          },
          "metadata": {}
        }
      ]
    },
    {
      "metadata": {
        "trusted": true
      },
      "cell_type": "code",
      "source": "# Take Log of skewered Median_Income to smooth it out\ndf2['Log_Median_Income'] = np.log(df2['Median_Income'])",
      "execution_count": 46,
      "outputs": []
    },
    {
      "metadata": {
        "trusted": true
      },
      "cell_type": "code",
      "source": "# Normalize the columns for 100,000 per Zip_Code\nhealth_svi = df2[['E_POV', 'E_UNEMP','E_NOHSDP', 'E_AGE65',\n       'E_DISABL', 'E_SNGPNT', 'E_MINRTY', 'E_LIMENG', 'E_MUNIT', 'E_MOBILE',\n       'E_CROWD', 'E_NOVEH', 'E_GROUPQ','COPD','Coronary Heart Disease','Diabetes','High Blood Pressure','Obesity','Chronic Kidney Disease']]\n\nfor i in health_svi:\n    i_rate = i + \"_rate\"\n    rate = 10000\n    df2[i_rate] = rate*df2[i] / df2['Population']",
      "execution_count": 47,
      "outputs": []
    },
    {
      "metadata": {
        "trusted": true
      },
      "cell_type": "code",
      "source": "df2.head()",
      "execution_count": 48,
      "outputs": [
        {
          "output_type": "execute_result",
          "execution_count": 48,
          "data": {
            "text/html": "<div>\n<style scoped>\n    .dataframe tbody tr th:only-of-type {\n        vertical-align: middle;\n    }\n\n    .dataframe tbody tr th {\n        vertical-align: top;\n    }\n\n    .dataframe thead th {\n        text-align: right;\n    }\n</style>\n<table border=\"1\" class=\"dataframe\">\n  <thead>\n    <tr style=\"text-align: right;\">\n      <th></th>\n      <th>Zip_Code</th>\n      <th>E_POV</th>\n      <th>E_UNEMP</th>\n      <th>E_NOHSDP</th>\n      <th>E_AGE65</th>\n      <th>E_DISABL</th>\n      <th>E_SNGPNT</th>\n      <th>E_MINRTY</th>\n      <th>E_LIMENG</th>\n      <th>E_MUNIT</th>\n      <th>...</th>\n      <th>E_MOBILE_rate</th>\n      <th>E_CROWD_rate</th>\n      <th>E_NOVEH_rate</th>\n      <th>E_GROUPQ_rate</th>\n      <th>COPD_rate</th>\n      <th>Coronary Heart Disease_rate</th>\n      <th>Diabetes_rate</th>\n      <th>High Blood Pressure_rate</th>\n      <th>Obesity_rate</th>\n      <th>Chronic Kidney Disease_rate</th>\n    </tr>\n  </thead>\n  <tbody>\n    <tr>\n      <th>0</th>\n      <td>10001.0</td>\n      <td>187376.0</td>\n      <td>42924.0</td>\n      <td>74536.0</td>\n      <td>205688.0</td>\n      <td>120624.0</td>\n      <td>21756.0</td>\n      <td>602532.0</td>\n      <td>67788.0</td>\n      <td>912604.0</td>\n      <td>...</td>\n      <td>390.856744</td>\n      <td>13118.129471</td>\n      <td>305503.402548</td>\n      <td>23439.190368</td>\n      <td>725.750742</td>\n      <td>774.298988</td>\n      <td>1252.137062</td>\n      <td>4149.907521</td>\n      <td>3106.192200</td>\n      <td>431.894521</td>\n    </tr>\n    <tr>\n      <th>1</th>\n      <td>10002.0</td>\n      <td>658140.0</td>\n      <td>75348.0</td>\n      <td>603456.0</td>\n      <td>486528.0</td>\n      <td>351372.0</td>\n      <td>77756.0</td>\n      <td>1804264.0</td>\n      <td>631316.0</td>\n      <td>1028440.0</td>\n      <td>...</td>\n      <td>93.342045</td>\n      <td>11305.588522</td>\n      <td>118268.105023</td>\n      <td>7172.402758</td>\n      <td>741.668689</td>\n      <td>841.288920</td>\n      <td>1697.129999</td>\n      <td>3566.279119</td>\n      <td>2047.706319</td>\n      <td>448.015948</td>\n    </tr>\n    <tr>\n      <th>2</th>\n      <td>10003.0</td>\n      <td>158956.0</td>\n      <td>67368.0</td>\n      <td>54012.0</td>\n      <td>277564.0</td>\n      <td>152852.0</td>\n      <td>19320.0</td>\n      <td>590016.0</td>\n      <td>28532.0</td>\n      <td>1070580.0</td>\n      <td>...</td>\n      <td>0.000000</td>\n      <td>7209.685088</td>\n      <td>150317.837680</td>\n      <td>57672.360192</td>\n      <td>417.398230</td>\n      <td>419.278373</td>\n      <td>642.959841</td>\n      <td>2381.443254</td>\n      <td>1858.269083</td>\n      <td>244.482279</td>\n    </tr>\n    <tr>\n      <th>3</th>\n      <td>10004.0</td>\n      <td>39984.0</td>\n      <td>15344.0</td>\n      <td>7308.0</td>\n      <td>33992.0</td>\n      <td>17584.0</td>\n      <td>11004.0</td>\n      <td>228844.0</td>\n      <td>5488.0</td>\n      <td>432096.0</td>\n      <td>...</td>\n      <td>0.000000</td>\n      <td>112906.208719</td>\n      <td>950871.862616</td>\n      <td>1941.875826</td>\n      <td>1076.694188</td>\n      <td>947.420740</td>\n      <td>1810.191546</td>\n      <td>7327.212682</td>\n      <td>7339.669749</td>\n      <td>727.457067</td>\n    </tr>\n    <tr>\n      <th>4</th>\n      <td>10005.0</td>\n      <td>44884.0</td>\n      <td>13888.0</td>\n      <td>7952.0</td>\n      <td>12544.0</td>\n      <td>10220.0</td>\n      <td>6580.0</td>\n      <td>159908.0</td>\n      <td>3220.0</td>\n      <td>290752.0</td>\n      <td>...</td>\n      <td>792.662213</td>\n      <td>28821.198052</td>\n      <td>229111.085947</td>\n      <td>18389.763334</td>\n      <td>288.803080</td>\n      <td>198.079493</td>\n      <td>384.382290</td>\n      <td>1713.104971</td>\n      <td>2071.143698</td>\n      <td>177.120371</td>\n    </tr>\n  </tbody>\n</table>\n<p>5 rows × 52 columns</p>\n</div>",
            "text/plain": "   Zip_Code     E_POV  E_UNEMP  E_NOHSDP   E_AGE65  E_DISABL  E_SNGPNT  \\\n0   10001.0  187376.0  42924.0   74536.0  205688.0  120624.0   21756.0   \n1   10002.0  658140.0  75348.0  603456.0  486528.0  351372.0   77756.0   \n2   10003.0  158956.0  67368.0   54012.0  277564.0  152852.0   19320.0   \n3   10004.0   39984.0  15344.0    7308.0   33992.0   17584.0   11004.0   \n4   10005.0   44884.0  13888.0    7952.0   12544.0   10220.0    6580.0   \n\n    E_MINRTY  E_LIMENG    E_MUNIT             ...               E_MOBILE_rate  \\\n0   602532.0   67788.0   912604.0             ...                  390.856744   \n1  1804264.0  631316.0  1028440.0             ...                   93.342045   \n2   590016.0   28532.0  1070580.0             ...                    0.000000   \n3   228844.0    5488.0   432096.0             ...                    0.000000   \n4   159908.0    3220.0   290752.0             ...                  792.662213   \n\n    E_CROWD_rate   E_NOVEH_rate  E_GROUPQ_rate    COPD_rate  \\\n0   13118.129471  305503.402548   23439.190368   725.750742   \n1   11305.588522  118268.105023    7172.402758   741.668689   \n2    7209.685088  150317.837680   57672.360192   417.398230   \n3  112906.208719  950871.862616    1941.875826  1076.694188   \n4   28821.198052  229111.085947   18389.763334   288.803080   \n\n  Coronary Heart Disease_rate  Diabetes_rate  High Blood Pressure_rate  \\\n0                  774.298988    1252.137062               4149.907521   \n1                  841.288920    1697.129999               3566.279119   \n2                  419.278373     642.959841               2381.443254   \n3                  947.420740    1810.191546               7327.212682   \n4                  198.079493     384.382290               1713.104971   \n\n   Obesity_rate  Chronic Kidney Disease_rate  \n0   3106.192200                   431.894521  \n1   2047.706319                   448.015948  \n2   1858.269083                   244.482279  \n3   7339.669749                   727.457067  \n4   2071.143698                   177.120371  \n\n[5 rows x 52 columns]"
          },
          "metadata": {}
        }
      ]
    },
    {
      "metadata": {
        "trusted": true
      },
      "cell_type": "code",
      "source": "df2.columns",
      "execution_count": 49,
      "outputs": [
        {
          "output_type": "execute_result",
          "execution_count": 49,
          "data": {
            "text/plain": "Index(['Zip_Code', 'E_POV', 'E_UNEMP', 'E_NOHSDP', 'E_AGE65', 'E_DISABL',\n       'E_SNGPNT', 'E_MINRTY', 'E_LIMENG', 'E_MUNIT', 'E_MOBILE', 'E_CROWD',\n       'E_NOVEH', 'E_GROUPQ', 'NEIGHBORHOOD_NAME', 'BOROUGH_GROUP',\n       'COVID_CASE_COUNT', 'COVID_CASE_RATE', 'POP_DENOMINATOR',\n       'COVID_DEATH_COUNT', 'COVID_DEATH_RATE', 'PERCENT_POSITIVE',\n       'TOTAL_COVID_TESTS', 'geoid', 'Median_Income', 'Population', 'COPD',\n       'Coronary Heart Disease', 'Diabetes', 'High Blood Pressure', 'Obesity',\n       'Chronic Kidney Disease', 'Log_Median_Income', 'E_POV_rate',\n       'E_UNEMP_rate', 'E_NOHSDP_rate', 'E_AGE65_rate', 'E_DISABL_rate',\n       'E_SNGPNT_rate', 'E_MINRTY_rate', 'E_LIMENG_rate', 'E_MUNIT_rate',\n       'E_MOBILE_rate', 'E_CROWD_rate', 'E_NOVEH_rate', 'E_GROUPQ_rate',\n       'COPD_rate', 'Coronary Heart Disease_rate', 'Diabetes_rate',\n       'High Blood Pressure_rate', 'Obesity_rate',\n       'Chronic Kidney Disease_rate'],\n      dtype='object')"
          },
          "metadata": {}
        }
      ]
    },
    {
      "metadata": {
        "trusted": true
      },
      "cell_type": "code",
      "source": "# Drop these columns\ndf3 = df2.drop(['E_POV', 'E_UNEMP', 'E_NOHSDP', 'E_AGE65', 'E_DISABL', 'E_SNGPNT', 'E_MINRTY',\n       'E_LIMENG', 'E_MUNIT', 'E_MOBILE', 'E_CROWD', 'E_NOVEH', 'E_GROUPQ','COVID_CASE_COUNT',\n        'COVID_DEATH_COUNT', 'TOTAL_COVID_TESTS','Median_Income', 'COPD',\n       'Coronary Heart Disease', 'Diabetes', 'High Blood Pressure', 'Obesity',\n       'Chronic Kidney Disease'], axis=1)",
      "execution_count": 50,
      "outputs": []
    },
    {
      "metadata": {
        "trusted": true
      },
      "cell_type": "code",
      "source": "df3.columns",
      "execution_count": 51,
      "outputs": [
        {
          "output_type": "execute_result",
          "execution_count": 51,
          "data": {
            "text/plain": "Index(['Zip_Code', 'NEIGHBORHOOD_NAME', 'BOROUGH_GROUP', 'COVID_CASE_RATE',\n       'POP_DENOMINATOR', 'COVID_DEATH_RATE', 'PERCENT_POSITIVE', 'geoid',\n       'Population', 'Log_Median_Income', 'E_POV_rate', 'E_UNEMP_rate',\n       'E_NOHSDP_rate', 'E_AGE65_rate', 'E_DISABL_rate', 'E_SNGPNT_rate',\n       'E_MINRTY_rate', 'E_LIMENG_rate', 'E_MUNIT_rate', 'E_MOBILE_rate',\n       'E_CROWD_rate', 'E_NOVEH_rate', 'E_GROUPQ_rate', 'COPD_rate',\n       'Coronary Heart Disease_rate', 'Diabetes_rate',\n       'High Blood Pressure_rate', 'Obesity_rate',\n       'Chronic Kidney Disease_rate'],\n      dtype='object')"
          },
          "metadata": {}
        }
      ]
    },
    {
      "metadata": {
        "trusted": true
      },
      "cell_type": "code",
      "source": "df3.info()\ndf3.describe()",
      "execution_count": 53,
      "outputs": [
        {
          "output_type": "stream",
          "text": "<class 'pandas.core.frame.DataFrame'>\nInt64Index: 177 entries, 0 to 176\nData columns (total 29 columns):\nZip_Code                       177 non-null float64\nNEIGHBORHOOD_NAME              177 non-null object\nBOROUGH_GROUP                  177 non-null object\nCOVID_CASE_RATE                177 non-null float64\nPOP_DENOMINATOR                177 non-null float64\nCOVID_DEATH_RATE               177 non-null float64\nPERCENT_POSITIVE               177 non-null float64\ngeoid                          177 non-null object\nPopulation                     177 non-null int64\nLog_Median_Income              177 non-null float64\nE_POV_rate                     177 non-null float64\nE_UNEMP_rate                   177 non-null float64\nE_NOHSDP_rate                  177 non-null float64\nE_AGE65_rate                   177 non-null float64\nE_DISABL_rate                  177 non-null float64\nE_SNGPNT_rate                  177 non-null float64\nE_MINRTY_rate                  177 non-null float64\nE_LIMENG_rate                  177 non-null float64\nE_MUNIT_rate                   177 non-null float64\nE_MOBILE_rate                  177 non-null float64\nE_CROWD_rate                   177 non-null float64\nE_NOVEH_rate                   177 non-null float64\nE_GROUPQ_rate                  177 non-null float64\nCOPD_rate                      177 non-null float64\nCoronary Heart Disease_rate    177 non-null float64\nDiabetes_rate                  177 non-null float64\nHigh Blood Pressure_rate       177 non-null float64\nObesity_rate                   177 non-null float64\nChronic Kidney Disease_rate    177 non-null float64\ndtypes: float64(25), int64(1), object(3)\nmemory usage: 41.5+ KB\n",
          "name": "stdout"
        },
        {
          "output_type": "execute_result",
          "execution_count": 53,
          "data": {
            "text/html": "<div>\n<style scoped>\n    .dataframe tbody tr th:only-of-type {\n        vertical-align: middle;\n    }\n\n    .dataframe tbody tr th {\n        vertical-align: top;\n    }\n\n    .dataframe thead th {\n        text-align: right;\n    }\n</style>\n<table border=\"1\" class=\"dataframe\">\n  <thead>\n    <tr style=\"text-align: right;\">\n      <th></th>\n      <th>Zip_Code</th>\n      <th>COVID_CASE_RATE</th>\n      <th>POP_DENOMINATOR</th>\n      <th>COVID_DEATH_RATE</th>\n      <th>PERCENT_POSITIVE</th>\n      <th>Population</th>\n      <th>Log_Median_Income</th>\n      <th>E_POV_rate</th>\n      <th>E_UNEMP_rate</th>\n      <th>E_NOHSDP_rate</th>\n      <th>...</th>\n      <th>E_MOBILE_rate</th>\n      <th>E_CROWD_rate</th>\n      <th>E_NOVEH_rate</th>\n      <th>E_GROUPQ_rate</th>\n      <th>COPD_rate</th>\n      <th>Coronary Heart Disease_rate</th>\n      <th>Diabetes_rate</th>\n      <th>High Blood Pressure_rate</th>\n      <th>Obesity_rate</th>\n      <th>Chronic Kidney Disease_rate</th>\n    </tr>\n  </thead>\n  <tbody>\n    <tr>\n      <th>count</th>\n      <td>177.000000</td>\n      <td>177.000000</td>\n      <td>177.000000</td>\n      <td>177.000000</td>\n      <td>177.000000</td>\n      <td>177.000000</td>\n      <td>177.000000</td>\n      <td>177.000000</td>\n      <td>177.000000</td>\n      <td>177.000000</td>\n      <td>...</td>\n      <td>177.000000</td>\n      <td>177.000000</td>\n      <td>177.000000</td>\n      <td>177.000000</td>\n      <td>177.000000</td>\n      <td>177.000000</td>\n      <td>177.000000</td>\n      <td>177.000000</td>\n      <td>177.000000</td>\n      <td>177.000000</td>\n    </tr>\n    <tr>\n      <th>mean</th>\n      <td>10810.378531</td>\n      <td>2338.201073</td>\n      <td>47425.734237</td>\n      <td>193.888079</td>\n      <td>19.102655</td>\n      <td>47645.062147</td>\n      <td>11.099865</td>\n      <td>69396.146579</td>\n      <td>14765.885229</td>\n      <td>48380.276484</td>\n      <td>...</td>\n      <td>255.239395</td>\n      <td>13718.430854</td>\n      <td>97588.995571</td>\n      <td>10018.528743</td>\n      <td>787.359610</td>\n      <td>776.305985</td>\n      <td>1527.819608</td>\n      <td>4067.548953</td>\n      <td>3497.292348</td>\n      <td>434.312640</td>\n    </tr>\n    <tr>\n      <th>std</th>\n      <td>578.173317</td>\n      <td>890.505867</td>\n      <td>26411.133886</td>\n      <td>105.136590</td>\n      <td>5.937915</td>\n      <td>26698.398778</td>\n      <td>0.464267</td>\n      <td>40803.708347</td>\n      <td>6934.726770</td>\n      <td>27337.127887</td>\n      <td>...</td>\n      <td>410.541113</td>\n      <td>10619.531932</td>\n      <td>105053.129958</td>\n      <td>13897.950827</td>\n      <td>269.111438</td>\n      <td>276.822385</td>\n      <td>571.269023</td>\n      <td>1449.633885</td>\n      <td>1255.200798</td>\n      <td>154.012705</td>\n    </tr>\n    <tr>\n      <th>min</th>\n      <td>10001.000000</td>\n      <td>582.200000</td>\n      <td>3457.770000</td>\n      <td>0.000000</td>\n      <td>7.150000</td>\n      <td>3028.000000</td>\n      <td>9.959348</td>\n      <td>8700.564972</td>\n      <td>4580.331061</td>\n      <td>1297.046902</td>\n      <td>...</td>\n      <td>0.000000</td>\n      <td>1977.401130</td>\n      <td>8511.029412</td>\n      <td>0.000000</td>\n      <td>168.578460</td>\n      <td>129.675738</td>\n      <td>259.351477</td>\n      <td>1193.016792</td>\n      <td>1400.497973</td>\n      <td>115.843504</td>\n    </tr>\n    <tr>\n      <th>25%</th>\n      <td>10301.000000</td>\n      <td>1654.400000</td>\n      <td>26614.420000</td>\n      <td>121.560000</td>\n      <td>15.140000</td>\n      <td>27403.000000</td>\n      <td>10.836281</td>\n      <td>40774.634517</td>\n      <td>10119.679797</td>\n      <td>29010.660183</td>\n      <td>...</td>\n      <td>63.171805</td>\n      <td>7645.786260</td>\n      <td>40363.668882</td>\n      <td>2200.887788</td>\n      <td>627.498415</td>\n      <td>640.366676</td>\n      <td>1183.466859</td>\n      <td>3298.352484</td>\n      <td>2649.125093</td>\n      <td>353.880850</td>\n    </tr>\n    <tr>\n      <th>50%</th>\n      <td>11109.000000</td>\n      <td>2411.110000</td>\n      <td>43030.430000</td>\n      <td>182.630000</td>\n      <td>20.150000</td>\n      <td>42653.000000</td>\n      <td>11.104702</td>\n      <td>60110.929853</td>\n      <td>13138.871275</td>\n      <td>43816.202251</td>\n      <td>...</td>\n      <td>184.160820</td>\n      <td>11480.910803</td>\n      <td>73698.638884</td>\n      <td>5781.960619</td>\n      <td>753.325239</td>\n      <td>743.746496</td>\n      <td>1498.267991</td>\n      <td>3821.449508</td>\n      <td>3373.428201</td>\n      <td>417.400347</td>\n    </tr>\n    <tr>\n      <th>75%</th>\n      <td>11361.000000</td>\n      <td>2962.490000</td>\n      <td>67089.290000</td>\n      <td>242.660000</td>\n      <td>24.080000</td>\n      <td>67094.000000</td>\n      <td>11.370693</td>\n      <td>93823.895536</td>\n      <td>17588.766085</td>\n      <td>64924.977167</td>\n      <td>...</td>\n      <td>306.941818</td>\n      <td>17186.210620</td>\n      <td>118268.105023</td>\n      <td>12198.408203</td>\n      <td>913.769599</td>\n      <td>869.740316</td>\n      <td>1810.191546</td>\n      <td>4577.093860</td>\n      <td>4003.672232</td>\n      <td>492.529447</td>\n    </tr>\n    <tr>\n      <th>max</th>\n      <td>11697.000000</td>\n      <td>4489.580000</td>\n      <td>111594.100000</td>\n      <td>660.580000</td>\n      <td>29.010000</td>\n      <td>112425.000000</td>\n      <td>12.429220</td>\n      <td>209117.612279</td>\n      <td>50673.712021</td>\n      <td>149628.363947</td>\n      <td>...</td>\n      <td>4192.090395</td>\n      <td>112906.208719</td>\n      <td>950871.862616</td>\n      <td>131408.230101</td>\n      <td>2066.574238</td>\n      <td>2399.252704</td>\n      <td>3774.965115</td>\n      <td>12654.648968</td>\n      <td>8241.769899</td>\n      <td>1335.970501</td>\n    </tr>\n  </tbody>\n</table>\n<p>8 rows × 26 columns</p>\n</div>",
            "text/plain": "           Zip_Code  COVID_CASE_RATE  POP_DENOMINATOR  COVID_DEATH_RATE  \\\ncount    177.000000       177.000000       177.000000        177.000000   \nmean   10810.378531      2338.201073     47425.734237        193.888079   \nstd      578.173317       890.505867     26411.133886        105.136590   \nmin    10001.000000       582.200000      3457.770000          0.000000   \n25%    10301.000000      1654.400000     26614.420000        121.560000   \n50%    11109.000000      2411.110000     43030.430000        182.630000   \n75%    11361.000000      2962.490000     67089.290000        242.660000   \nmax    11697.000000      4489.580000    111594.100000        660.580000   \n\n       PERCENT_POSITIVE     Population  Log_Median_Income     E_POV_rate  \\\ncount        177.000000     177.000000         177.000000     177.000000   \nmean          19.102655   47645.062147          11.099865   69396.146579   \nstd            5.937915   26698.398778           0.464267   40803.708347   \nmin            7.150000    3028.000000           9.959348    8700.564972   \n25%           15.140000   27403.000000          10.836281   40774.634517   \n50%           20.150000   42653.000000          11.104702   60110.929853   \n75%           24.080000   67094.000000          11.370693   93823.895536   \nmax           29.010000  112425.000000          12.429220  209117.612279   \n\n       E_UNEMP_rate  E_NOHSDP_rate             ...               \\\ncount    177.000000     177.000000             ...                \nmean   14765.885229   48380.276484             ...                \nstd     6934.726770   27337.127887             ...                \nmin     4580.331061    1297.046902             ...                \n25%    10119.679797   29010.660183             ...                \n50%    13138.871275   43816.202251             ...                \n75%    17588.766085   64924.977167             ...                \nmax    50673.712021  149628.363947             ...                \n\n       E_MOBILE_rate   E_CROWD_rate   E_NOVEH_rate  E_GROUPQ_rate  \\\ncount     177.000000     177.000000     177.000000     177.000000   \nmean      255.239395   13718.430854   97588.995571   10018.528743   \nstd       410.541113   10619.531932  105053.129958   13897.950827   \nmin         0.000000    1977.401130    8511.029412       0.000000   \n25%        63.171805    7645.786260   40363.668882    2200.887788   \n50%       184.160820   11480.910803   73698.638884    5781.960619   \n75%       306.941818   17186.210620  118268.105023   12198.408203   \nmax      4192.090395  112906.208719  950871.862616  131408.230101   \n\n         COPD_rate  Coronary Heart Disease_rate  Diabetes_rate  \\\ncount   177.000000                   177.000000     177.000000   \nmean    787.359610                   776.305985    1527.819608   \nstd     269.111438                   276.822385     571.269023   \nmin     168.578460                   129.675738     259.351477   \n25%     627.498415                   640.366676    1183.466859   \n50%     753.325239                   743.746496    1498.267991   \n75%     913.769599                   869.740316    1810.191546   \nmax    2066.574238                  2399.252704    3774.965115   \n\n       High Blood Pressure_rate  Obesity_rate  Chronic Kidney Disease_rate  \ncount                177.000000    177.000000                   177.000000  \nmean                4067.548953   3497.292348                   434.312640  \nstd                 1449.633885   1255.200798                   154.012705  \nmin                 1193.016792   1400.497973                   115.843504  \n25%                 3298.352484   2649.125093                   353.880850  \n50%                 3821.449508   3373.428201                   417.400347  \n75%                 4577.093860   4003.672232                   492.529447  \nmax                12654.648968   8241.769899                  1335.970501  \n\n[8 rows x 26 columns]"
          },
          "metadata": {}
        }
      ]
    },
    {
      "metadata": {
        "trusted": true
      },
      "cell_type": "code",
      "source": "df3.head()",
      "execution_count": 54,
      "outputs": [
        {
          "output_type": "execute_result",
          "execution_count": 54,
          "data": {
            "text/html": "<div>\n<style scoped>\n    .dataframe tbody tr th:only-of-type {\n        vertical-align: middle;\n    }\n\n    .dataframe tbody tr th {\n        vertical-align: top;\n    }\n\n    .dataframe thead th {\n        text-align: right;\n    }\n</style>\n<table border=\"1\" class=\"dataframe\">\n  <thead>\n    <tr style=\"text-align: right;\">\n      <th></th>\n      <th>Zip_Code</th>\n      <th>NEIGHBORHOOD_NAME</th>\n      <th>BOROUGH_GROUP</th>\n      <th>COVID_CASE_RATE</th>\n      <th>POP_DENOMINATOR</th>\n      <th>COVID_DEATH_RATE</th>\n      <th>PERCENT_POSITIVE</th>\n      <th>geoid</th>\n      <th>Population</th>\n      <th>Log_Median_Income</th>\n      <th>...</th>\n      <th>E_MOBILE_rate</th>\n      <th>E_CROWD_rate</th>\n      <th>E_NOVEH_rate</th>\n      <th>E_GROUPQ_rate</th>\n      <th>COPD_rate</th>\n      <th>Coronary Heart Disease_rate</th>\n      <th>Diabetes_rate</th>\n      <th>High Blood Pressure_rate</th>\n      <th>Obesity_rate</th>\n      <th>Chronic Kidney Disease_rate</th>\n    </tr>\n  </thead>\n  <tbody>\n    <tr>\n      <th>0</th>\n      <td>10001.0</td>\n      <td>Chelsea/NoMad/West Chelsea</td>\n      <td>Manhattan</td>\n      <td>1616.94</td>\n      <td>23563.03</td>\n      <td>93.37</td>\n      <td>11.30</td>\n      <td>86000US10001</td>\n      <td>22924</td>\n      <td>11.391052</td>\n      <td>...</td>\n      <td>390.856744</td>\n      <td>13118.129471</td>\n      <td>305503.402548</td>\n      <td>23439.190368</td>\n      <td>725.750742</td>\n      <td>774.298988</td>\n      <td>1252.137062</td>\n      <td>4149.907521</td>\n      <td>3106.192200</td>\n      <td>431.894521</td>\n    </tr>\n    <tr>\n      <th>1</th>\n      <td>10002.0</td>\n      <td>Chinatown/Lower East Side</td>\n      <td>Manhattan</td>\n      <td>1408.37</td>\n      <td>76755.41</td>\n      <td>198.03</td>\n      <td>15.89</td>\n      <td>86000US10002</td>\n      <td>74993</td>\n      <td>10.487350</td>\n      <td>...</td>\n      <td>93.342045</td>\n      <td>11305.588522</td>\n      <td>118268.105023</td>\n      <td>7172.402758</td>\n      <td>741.668689</td>\n      <td>841.288920</td>\n      <td>1697.129999</td>\n      <td>3566.279119</td>\n      <td>2047.706319</td>\n      <td>448.015948</td>\n    </tr>\n    <tr>\n      <th>2</th>\n      <td>10003.0</td>\n      <td>East Village/Gramercy/Greenwich Village</td>\n      <td>Manhattan</td>\n      <td>860.57</td>\n      <td>53801.62</td>\n      <td>63.20</td>\n      <td>8.71</td>\n      <td>86000US10003</td>\n      <td>54682</td>\n      <td>11.627423</td>\n      <td>...</td>\n      <td>0.000000</td>\n      <td>7209.685088</td>\n      <td>150317.837680</td>\n      <td>57672.360192</td>\n      <td>417.398230</td>\n      <td>419.278373</td>\n      <td>642.959841</td>\n      <td>2381.443254</td>\n      <td>1858.269083</td>\n      <td>244.482279</td>\n    </tr>\n    <tr>\n      <th>3</th>\n      <td>10004.0</td>\n      <td>Financial District</td>\n      <td>Manhattan</td>\n      <td>876.57</td>\n      <td>3650.61</td>\n      <td>27.39</td>\n      <td>9.22</td>\n      <td>86000US10004</td>\n      <td>3028</td>\n      <td>11.968101</td>\n      <td>...</td>\n      <td>0.000000</td>\n      <td>112906.208719</td>\n      <td>950871.862616</td>\n      <td>1941.875826</td>\n      <td>1076.694188</td>\n      <td>947.420740</td>\n      <td>1810.191546</td>\n      <td>7327.212682</td>\n      <td>7339.669749</td>\n      <td>727.457067</td>\n    </tr>\n    <tr>\n      <th>4</th>\n      <td>10005.0</td>\n      <td>Financial District</td>\n      <td>Manhattan</td>\n      <td>762.26</td>\n      <td>8396.11</td>\n      <td>23.82</td>\n      <td>8.27</td>\n      <td>86000US10005</td>\n      <td>8831</td>\n      <td>12.062970</td>\n      <td>...</td>\n      <td>792.662213</td>\n      <td>28821.198052</td>\n      <td>229111.085947</td>\n      <td>18389.763334</td>\n      <td>288.803080</td>\n      <td>198.079493</td>\n      <td>384.382290</td>\n      <td>1713.104971</td>\n      <td>2071.143698</td>\n      <td>177.120371</td>\n    </tr>\n  </tbody>\n</table>\n<p>5 rows × 29 columns</p>\n</div>",
            "text/plain": "   Zip_Code                        NEIGHBORHOOD_NAME BOROUGH_GROUP  \\\n0   10001.0               Chelsea/NoMad/West Chelsea     Manhattan   \n1   10002.0                Chinatown/Lower East Side     Manhattan   \n2   10003.0  East Village/Gramercy/Greenwich Village     Manhattan   \n3   10004.0                       Financial District     Manhattan   \n4   10005.0                       Financial District     Manhattan   \n\n   COVID_CASE_RATE  POP_DENOMINATOR  COVID_DEATH_RATE  PERCENT_POSITIVE  \\\n0          1616.94         23563.03             93.37             11.30   \n1          1408.37         76755.41            198.03             15.89   \n2           860.57         53801.62             63.20              8.71   \n3           876.57          3650.61             27.39              9.22   \n4           762.26          8396.11             23.82              8.27   \n\n          geoid  Population  Log_Median_Income             ...               \\\n0  86000US10001       22924          11.391052             ...                \n1  86000US10002       74993          10.487350             ...                \n2  86000US10003       54682          11.627423             ...                \n3  86000US10004        3028          11.968101             ...                \n4  86000US10005        8831          12.062970             ...                \n\n   E_MOBILE_rate   E_CROWD_rate   E_NOVEH_rate  E_GROUPQ_rate    COPD_rate  \\\n0     390.856744   13118.129471  305503.402548   23439.190368   725.750742   \n1      93.342045   11305.588522  118268.105023    7172.402758   741.668689   \n2       0.000000    7209.685088  150317.837680   57672.360192   417.398230   \n3       0.000000  112906.208719  950871.862616    1941.875826  1076.694188   \n4     792.662213   28821.198052  229111.085947   18389.763334   288.803080   \n\n   Coronary Heart Disease_rate  Diabetes_rate  High Blood Pressure_rate  \\\n0                   774.298988    1252.137062               4149.907521   \n1                   841.288920    1697.129999               3566.279119   \n2                   419.278373     642.959841               2381.443254   \n3                   947.420740    1810.191546               7327.212682   \n4                   198.079493     384.382290               1713.104971   \n\n   Obesity_rate  Chronic Kidney Disease_rate  \n0   3106.192200                   431.894521  \n1   2047.706319                   448.015948  \n2   1858.269083                   244.482279  \n3   7339.669749                   727.457067  \n4   2071.143698                   177.120371  \n\n[5 rows x 29 columns]"
          },
          "metadata": {}
        }
      ]
    },
    {
      "metadata": {
        "trusted": true
      },
      "cell_type": "code",
      "source": "to_excel = df3.to_excel('covid19_zip.xlsx')",
      "execution_count": 56,
      "outputs": []
    },
    {
      "metadata": {
        "trusted": true
      },
      "cell_type": "code",
      "source": "to_excel = df_final.to_excel('covid19_tract.xlsx')",
      "execution_count": 57,
      "outputs": []
    }
  ],
  "metadata": {
    "kernelspec": {
      "name": "python36",
      "display_name": "Python 3.6",
      "language": "python"
    },
    "language_info": {
      "mimetype": "text/x-python",
      "nbconvert_exporter": "python",
      "name": "python",
      "pygments_lexer": "ipython3",
      "version": "3.6.6",
      "file_extension": ".py",
      "codemirror_mode": {
        "version": 3,
        "name": "ipython"
      }
    }
  },
  "nbformat": 4,
  "nbformat_minor": 2
}